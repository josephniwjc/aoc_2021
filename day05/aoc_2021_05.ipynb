{
 "cells": [
  {
   "cell_type": "code",
   "execution_count": 1,
   "metadata": {},
   "outputs": [],
   "source": [
    "import os\n",
    "import numpy as np\n",
    "import copy"
   ]
  },
  {
   "cell_type": "code",
   "execution_count": 2,
   "metadata": {},
   "outputs": [],
   "source": [
    "def aoc_2021_05_1(file_path):\n",
    "    \"\"\"--- Day 5: Hydrothermal Venture --- Part One\"\"\"\n",
    "    \n",
    "    with open(file_path) as f:\n",
    "        aoc_read = f.read().split('\\n')\n",
    "    \n",
    "    # read lines\n",
    "    line_list = [tuple([tuple([int(n) for n in x.split(',')]) for x in l.split(' -> ')]) for l in aoc_read]\n",
    "    line_dim = max([max(n) for n in [max(l) for l in line_list]])\n",
    "    overlap_array = np.zeros((line_dim + 1, line_dim + 1))\n",
    "\n",
    "    for line in line_list:\n",
    "\n",
    "        # vertical line\n",
    "        if line[0][0] == line[1][0]:\n",
    "            x_pos = line[0][0]\n",
    "            temp_y_range = [line[0][1], line[1][1]]\n",
    "            for y_pos in range(min(temp_y_range), max(temp_y_range) + 1):\n",
    "                overlap_array[x_pos, y_pos] += 1\n",
    "\n",
    "        # horizontal line\n",
    "        elif line[0][1] == line[1][1]:\n",
    "            y_pos = line[0][1]\n",
    "            temp_x_range = [line[0][0], line[1][0]]\n",
    "            for x_pos in range(min(temp_x_range), max(temp_x_range) + 1):\n",
    "                overlap_array[x_pos, y_pos] += 1\n",
    "\n",
    "    overlap_score = len(np.where(overlap_array >= 2)[0])\n",
    "    \n",
    "    return overlap_score"
   ]
  },
  {
   "cell_type": "code",
   "execution_count": 3,
   "metadata": {},
   "outputs": [
    {
     "data": {
      "text/plain": [
       "5"
      ]
     },
     "execution_count": 3,
     "metadata": {},
     "output_type": "execute_result"
    }
   ],
   "source": [
    "aoc_2021_05_1('example.txt')"
   ]
  },
  {
   "cell_type": "code",
   "execution_count": 4,
   "metadata": {},
   "outputs": [
    {
     "data": {
      "text/plain": [
       "4993"
      ]
     },
     "execution_count": 4,
     "metadata": {},
     "output_type": "execute_result"
    }
   ],
   "source": [
    "aoc_2021_05_1('input.txt')"
   ]
  },
  {
   "cell_type": "code",
   "execution_count": 5,
   "metadata": {},
   "outputs": [],
   "source": [
    "def aoc_2021_05_2(file_path):\n",
    "    \"\"\"--- Day 5: Hydrothermal Venture --- Part Two\"\"\"\n",
    "    \n",
    "    with open(file_path) as f:\n",
    "        aoc_read = f.read().split('\\n')\n",
    "    \n",
    "    line_list = [tuple([tuple([int(n) for n in x.split(',')]) for x in l.split(' -> ')]) for l in aoc_read]\n",
    "    line_dim = max([max(n) for n in [max(l) for l in line_list]])\n",
    "    overlap_array = np.zeros((line_dim + 1, line_dim + 1))\n",
    "\n",
    "    for line in line_list:\n",
    "\n",
    "        # vertical line\n",
    "        if line[0][0] == line[1][0]:\n",
    "            x_pos = line[0][0]\n",
    "            temp_y_range = [line[0][1], line[1][1]]\n",
    "            for y_pos in range(min(temp_y_range), max(temp_y_range) + 1):\n",
    "                overlap_array[x_pos, y_pos] += 1\n",
    "\n",
    "        # horizontal line\n",
    "        elif line[0][1] == line[1][1]:\n",
    "            y_pos = line[0][1]\n",
    "            temp_x_range = [line[0][0], line[1][0]]\n",
    "            for x_pos in range(min(temp_x_range), max(temp_x_range) + 1):\n",
    "                overlap_array[x_pos, y_pos] += 1\n",
    "\n",
    "        # diagonal line\n",
    "        elif np.absolute(line[0][0] - line[1][0]) == np.absolute(line[0][1] - line[1][1]):\n",
    "            x0_pos = line[0][0]\n",
    "            y0_pos = line[0][1]\n",
    "            x1_pos = line[1][0]\n",
    "            y1_pos = line[1][1]\n",
    "\n",
    "            # x direction\n",
    "            if x1_pos > x0_pos:\n",
    "                x_dir = 1\n",
    "            else:\n",
    "                x_dir = -1\n",
    "            x_list = list(range(x0_pos, x1_pos + x_dir, x_dir))\n",
    "\n",
    "            # y direction\n",
    "            if y1_pos > y0_pos:\n",
    "                y_dir = 1\n",
    "            else:\n",
    "                y_dir = -1\n",
    "            y_list = list(range(y0_pos, y1_pos + y_dir, y_dir))\n",
    "\n",
    "            # each diagonal position\n",
    "            for i_pos in range(len(x_list)):\n",
    "                overlap_array[x_list[i_pos], y_list[i_pos]] += 1\n",
    "\n",
    "    overlap_score = len(np.where(overlap_array >= 2)[0])\n",
    "    \n",
    "    return overlap_score"
   ]
  },
  {
   "cell_type": "code",
   "execution_count": 6,
   "metadata": {},
   "outputs": [
    {
     "data": {
      "text/plain": [
       "12"
      ]
     },
     "execution_count": 6,
     "metadata": {},
     "output_type": "execute_result"
    }
   ],
   "source": [
    "aoc_2021_05_2('example.txt')"
   ]
  },
  {
   "cell_type": "code",
   "execution_count": 7,
   "metadata": {},
   "outputs": [
    {
     "data": {
      "text/plain": [
       "21101"
      ]
     },
     "execution_count": 7,
     "metadata": {},
     "output_type": "execute_result"
    }
   ],
   "source": [
    "aoc_2021_05_2('input.txt')"
   ]
  }
 ],
 "metadata": {
  "kernelspec": {
   "display_name": "Python 3",
   "language": "python",
   "name": "python3"
  },
  "language_info": {
   "codemirror_mode": {
    "name": "ipython",
    "version": 3
   },
   "file_extension": ".py",
   "mimetype": "text/x-python",
   "name": "python",
   "nbconvert_exporter": "python",
   "pygments_lexer": "ipython3",
   "version": "3.7.3"
  }
 },
 "nbformat": 4,
 "nbformat_minor": 2
}
