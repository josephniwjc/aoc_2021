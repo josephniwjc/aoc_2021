{
 "cells": [
  {
   "cell_type": "code",
   "execution_count": 1,
   "metadata": {},
   "outputs": [],
   "source": [
    "import os\n",
    "import copy"
   ]
  },
  {
   "cell_type": "code",
   "execution_count": 2,
   "metadata": {},
   "outputs": [],
   "source": [
    "def aoc_2021_17_1(file_path):\n",
    "    \"\"\"--- Day 17: Trick Shot --- Part One\"\"\"\n",
    "    \n",
    "    with open(file_path) as f:\n",
    "        aoc_read = f.read().split('\\n')[0]\n",
    "    \n",
    "    temp_x, temp_y = aoc_read.replace('target area: ', '').split(', ')\n",
    "    x_tuple = tuple(sorted([int(x) for x in temp_x.replace('x=', '').split('..')]))\n",
    "    y_tuple = tuple(sorted([int(x) for x in temp_y.replace('y=', '').split('..')]))\n",
    "\n",
    "    max_height_dict = {}\n",
    "    max_x = max(x_tuple) * 2\n",
    "    max_y = max([abs(y) for y in y_tuple]) * 2\n",
    "    \n",
    "    # try a range of x & y\n",
    "    for x_initial in range(1, max_x):\n",
    "        for y_initial in range(-max_y, max_y):\n",
    "            \n",
    "            # initialize\n",
    "            max_height = 0\n",
    "            x_pos, y_pos = (0, 0)\n",
    "            x_velocity = copy.deepcopy(x_initial)\n",
    "            y_velocity = copy.deepcopy(y_initial)\n",
    "            target_flag = False\n",
    "            \n",
    "            # launch probe until past target\n",
    "            while x_pos <= x_tuple[1] and y_pos >= y_tuple[0]:\n",
    "                x_pos += x_velocity\n",
    "                y_pos += y_velocity\n",
    "                \n",
    "                # break if within target\n",
    "                if x_tuple[0] <= x_pos <= x_tuple[1] and y_tuple[0] <= y_pos <= y_tuple[1]:\n",
    "                    target_flag = True\n",
    "                    break\n",
    "                \n",
    "                # record new height\n",
    "                if y_pos > max_height:\n",
    "                    max_height = copy.deepcopy(y_pos)\n",
    "                \n",
    "                # adjust velocity\n",
    "                if x_velocity > 0:\n",
    "                    x_velocity -= 1\n",
    "                elif x_velocity < 0:\n",
    "                    x_velocity += 1\n",
    "                y_velocity -= 1\n",
    "            \n",
    "            # record max height reached\n",
    "            if target_flag:\n",
    "                max_height_dict[x_initial, y_initial] = max_height\n",
    "                \n",
    "    max_height = max(max_height_dict.values())\n",
    "    \n",
    "    return max_height"
   ]
  },
  {
   "cell_type": "code",
   "execution_count": 3,
   "metadata": {},
   "outputs": [
    {
     "data": {
      "text/plain": [
       "45"
      ]
     },
     "execution_count": 3,
     "metadata": {},
     "output_type": "execute_result"
    }
   ],
   "source": [
    "aoc_2021_17_1('example.txt')"
   ]
  },
  {
   "cell_type": "code",
   "execution_count": 4,
   "metadata": {},
   "outputs": [
    {
     "data": {
      "text/plain": [
       "6441"
      ]
     },
     "execution_count": 4,
     "metadata": {},
     "output_type": "execute_result"
    }
   ],
   "source": [
    "aoc_2021_17_1('input.txt')"
   ]
  },
  {
   "cell_type": "code",
   "execution_count": 5,
   "metadata": {},
   "outputs": [],
   "source": [
    "def aoc_2021_17_2(file_path):\n",
    "    \"\"\"--- Day 17: Trick Shot --- Part Two\"\"\"\n",
    "    \n",
    "    with open(file_path) as f:\n",
    "        aoc_read = f.read().split('\\n')[0]\n",
    "    \n",
    "    temp_x, temp_y = aoc_read.replace('target area: ', '').split(', ')\n",
    "    x_tuple = tuple(sorted([int(x) for x in temp_x.replace('x=', '').split('..')]))\n",
    "    y_tuple = tuple(sorted([int(x) for x in temp_y.replace('y=', '').split('..')]))\n",
    "\n",
    "    max_height_dict = {}\n",
    "    max_x = max(x_tuple) * 2\n",
    "    max_y = max([abs(y) for y in y_tuple]) * 2\n",
    "    \n",
    "    # try a range of x & y\n",
    "    for x_initial in range(1, max_x):\n",
    "        for y_initial in range(-max_y, max_y):\n",
    "            \n",
    "            # initialize\n",
    "            max_height = 0\n",
    "            x_pos, y_pos = (0, 0)\n",
    "            x_velocity = copy.deepcopy(x_initial)\n",
    "            y_velocity = copy.deepcopy(y_initial)\n",
    "            target_flag = False\n",
    "            \n",
    "            # launch probe until past target\n",
    "            while x_pos <= x_tuple[1] and y_pos >= y_tuple[0]:\n",
    "                x_pos += x_velocity\n",
    "                y_pos += y_velocity\n",
    "                \n",
    "                # break if within target\n",
    "                if x_tuple[0] <= x_pos <= x_tuple[1] and y_tuple[0] <= y_pos <= y_tuple[1]:\n",
    "                    target_flag = True\n",
    "                    break\n",
    "                \n",
    "                # record new height\n",
    "                if y_pos > max_height:\n",
    "                    max_height = copy.deepcopy(y_pos)\n",
    "                \n",
    "                # adjust velocity\n",
    "                if x_velocity > 0:\n",
    "                    x_velocity -= 1\n",
    "                elif x_velocity < 0:\n",
    "                    x_velocity += 1\n",
    "                y_velocity -= 1\n",
    "            \n",
    "            # record max height reached\n",
    "            if target_flag:\n",
    "                max_height_dict[x_initial, y_initial] = max_height\n",
    "                \n",
    "    distinct_velocities = len(max_height_dict)\n",
    "    \n",
    "    return distinct_velocities"
   ]
  },
  {
   "cell_type": "code",
   "execution_count": 6,
   "metadata": {},
   "outputs": [
    {
     "data": {
      "text/plain": [
       "112"
      ]
     },
     "execution_count": 6,
     "metadata": {},
     "output_type": "execute_result"
    }
   ],
   "source": [
    "aoc_2021_17_2('example.txt')"
   ]
  },
  {
   "cell_type": "code",
   "execution_count": 7,
   "metadata": {},
   "outputs": [
    {
     "data": {
      "text/plain": [
       "3186"
      ]
     },
     "execution_count": 7,
     "metadata": {},
     "output_type": "execute_result"
    }
   ],
   "source": [
    "aoc_2021_17_2('input.txt')"
   ]
  }
 ],
 "metadata": {
  "kernelspec": {
   "display_name": "Python 3",
   "language": "python",
   "name": "python3"
  },
  "language_info": {
   "codemirror_mode": {
    "name": "ipython",
    "version": 3
   },
   "file_extension": ".py",
   "mimetype": "text/x-python",
   "name": "python",
   "nbconvert_exporter": "python",
   "pygments_lexer": "ipython3",
   "version": "3.7.3"
  }
 },
 "nbformat": 4,
 "nbformat_minor": 2
}
