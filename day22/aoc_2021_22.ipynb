{
 "cells": [
  {
   "cell_type": "code",
   "execution_count": 1,
   "metadata": {},
   "outputs": [],
   "source": [
    "import os\n",
    "import copy\n",
    "import numpy as np"
   ]
  },
  {
   "cell_type": "code",
   "execution_count": 2,
   "metadata": {},
   "outputs": [],
   "source": [
    "def aoc_2021_22_1(file_path):\n",
    "    \"\"\"--- Day 22: Reactor Reboot --- Part One\"\"\"\n",
    " \n",
    "    with open(file_path) as f:\n",
    "        aoc_read = f.read().split('\\n')\n",
    "    \n",
    "    # read instruction list\n",
    "    instruction_list = []\n",
    "    for reboot in aoc_read:\n",
    "        temp_on_off = reboot.split(' ')[0]\n",
    "        if temp_on_off == 'on':\n",
    "            temp_on_off = 1\n",
    "        else:\n",
    "            temp_on_off = 0\n",
    "        temp_reboot = reboot.split(' ')[1].split(',')\n",
    "        temp_reboot = [tuple([int(c) for c in r.split('=')[-1].split('..')]) for r in temp_reboot]\n",
    "        instruction_list.append(tuple([temp_on_off] + temp_reboot))\n",
    "    \n",
    "    # -50 to 50\n",
    "    cuboid_array = np.zeros((101, 101, 101))\n",
    "\n",
    "    for instruction in instruction_list:\n",
    "        temp_x_range = np.array(instruction[1]) + 50\n",
    "        temp_y_range = np.array(instruction[2]) + 50\n",
    "        temp_z_range = np.array(instruction[3]) + 50\n",
    "\n",
    "        x_min = max(0, temp_x_range[0])\n",
    "        x_max = min(101, temp_x_range[1] + 1)\n",
    "        y_min = max(0, temp_y_range[0])\n",
    "        y_max = min(101, temp_y_range[1] + 1)\n",
    "        z_min = max(0, temp_z_range[0])\n",
    "        z_max = min(101, temp_z_range[1] + 1)\n",
    "\n",
    "        if x_min < x_max and y_min < y_max and z_min < z_max:\n",
    "            cuboid_array[x_min:x_max, y_min:y_max, z_min:z_max] = instruction[0]\n",
    "\n",
    "    no_cubes = len(np.where(cuboid_array == 1)[0])\n",
    "\n",
    "    return no_cubes"
   ]
  },
  {
   "cell_type": "code",
   "execution_count": 3,
   "metadata": {},
   "outputs": [
    {
     "data": {
      "text/plain": [
       "590784"
      ]
     },
     "execution_count": 3,
     "metadata": {},
     "output_type": "execute_result"
    }
   ],
   "source": [
    "aoc_2021_22_1('example1.txt')"
   ]
  },
  {
   "cell_type": "code",
   "execution_count": 4,
   "metadata": {},
   "outputs": [
    {
     "data": {
      "text/plain": [
       "611176"
      ]
     },
     "execution_count": 4,
     "metadata": {},
     "output_type": "execute_result"
    }
   ],
   "source": [
    "aoc_2021_22_1('input.txt')"
   ]
  },
  {
   "cell_type": "code",
   "execution_count": 5,
   "metadata": {},
   "outputs": [],
   "source": [
    "def aoc_2021_22_2(file_path):\n",
    "    \"\"\"--- Day 22: Reactor Reboot --- Part Two\"\"\"\n",
    "    \n",
    "    with open(file_path) as f:\n",
    "        aoc_read = f.read().split('\\n')\n",
    "\n",
    "    # read instruction list\n",
    "    instruction_list = []\n",
    "    for reboot in aoc_read:\n",
    "        temp_on_off = reboot.split(' ')[0]\n",
    "        if temp_on_off == 'on':\n",
    "            temp_on_off = 1\n",
    "        else:\n",
    "            temp_on_off = 0\n",
    "        temp_reboot = reboot.split(' ')[1].split(',')\n",
    "        temp_reboot = [tuple([int(c) for c in r.split('=')[-1].split('..')]) for r in temp_reboot]\n",
    "        instruction_list.append(tuple([temp_on_off] + temp_reboot))\n",
    "\n",
    "    # initialize all cube intersections\n",
    "    len_instruction = len(instruction_list)\n",
    "    cube_intersection_dict = {}\n",
    "    current_intersection_list = [tuple([c]) for c in range(len_instruction)]\n",
    "    intersection_minmax_dict = {}\n",
    "\n",
    "    # calculate cube intersections\n",
    "    while current_intersection_list:\n",
    "        new_intersection_list = []\n",
    "\n",
    "        # for all intersection cubes\n",
    "        for cubes in current_intersection_list:\n",
    "            x_min, x_max = instruction_list[cubes[-1]][1]\n",
    "            y_min, y_max = instruction_list[cubes[-1]][2]\n",
    "            z_min, z_max = instruction_list[cubes[-1]][3]\n",
    "\n",
    "            try:\n",
    "                intersection_x_min, intersection_y_min, intersection_z_min, intersection_x_max, intersection_y_max, intersection_z_max = intersection_minmax_dict[tuple(list(cubes))]\n",
    "\n",
    "                x_min = max(x_min, intersection_x_min)\n",
    "                y_min = max(y_min, intersection_y_min)\n",
    "                z_min = max(z_min, intersection_z_min)\n",
    "\n",
    "                x_max = min(x_max, intersection_x_max)\n",
    "                y_max = min(y_max, intersection_y_max)\n",
    "                z_max = min(z_max, intersection_z_max)\n",
    "            except KeyError:\n",
    "                pass\n",
    "\n",
    "            # add another cube\n",
    "            if x_min <= x_max and y_min <= y_max and z_min <= z_max:\n",
    "                cube_intersection_dict[tuple(cubes)] = (x_max - x_min + 1) * (y_max - y_min + 1) * (z_max - z_min + 1)\n",
    "                temp_new_intersection = [tuple(list(cubes) + [c]) for c in range(cubes[-1] + 1, len_instruction)]\n",
    "                new_intersection_list += temp_new_intersection\n",
    "\n",
    "                # prestore min max indices\n",
    "                for temp_new in temp_new_intersection:\n",
    "                    intersection_minmax_dict[temp_new] = (x_min, y_min, z_min, x_max, y_max, z_max)\n",
    "\n",
    "        # update cube list\n",
    "        current_intersection_list = copy.deepcopy(new_intersection_list)\n",
    "\n",
    "    # first cube\n",
    "    if not instruction_list[0][0]:\n",
    "        raise ValueError\n",
    "    on_cube_dict = {}\n",
    "    on_cube_dict[(0, )] = 1\n",
    "\n",
    "    # instructions to turn cubes on or off\n",
    "    for i_instruction in range(1, len_instruction):\n",
    "        on_off = instruction_list[i_instruction][0]\n",
    "\n",
    "        for cube in copy.deepcopy(sorted(on_cube_dict)):\n",
    "            cube_intersection = tuple(list(cube) + [i_instruction])\n",
    "\n",
    "            # turn off intersection\n",
    "            if cube_intersection in cube_intersection_dict:\n",
    "                on_cube_dict[cube_intersection] = -on_cube_dict[cube]\n",
    "\n",
    "        # turn on entire cube if instruction is turn on\n",
    "        if on_off:\n",
    "            on_cube_dict[(i_instruction, )] = 1\n",
    "\n",
    "    no_cubes = sum([cube_intersection_dict[k] * v for k, v in on_cube_dict.items()])\n",
    "\n",
    "    return no_cubes"
   ]
  },
  {
   "cell_type": "code",
   "execution_count": 6,
   "metadata": {},
   "outputs": [
    {
     "data": {
      "text/plain": [
       "2758514936282235"
      ]
     },
     "execution_count": 6,
     "metadata": {},
     "output_type": "execute_result"
    }
   ],
   "source": [
    "aoc_2021_22_2('example2.txt')"
   ]
  },
  {
   "cell_type": "code",
   "execution_count": 7,
   "metadata": {},
   "outputs": [
    {
     "data": {
      "text/plain": [
       "1201259791805392"
      ]
     },
     "execution_count": 7,
     "metadata": {},
     "output_type": "execute_result"
    }
   ],
   "source": [
    "aoc_2021_22_2('input.txt')"
   ]
  }
 ],
 "metadata": {
  "kernelspec": {
   "display_name": "Python 3 (ipykernel)",
   "language": "python",
   "name": "python3"
  },
  "language_info": {
   "codemirror_mode": {
    "name": "ipython",
    "version": 3
   },
   "file_extension": ".py",
   "mimetype": "text/x-python",
   "name": "python",
   "nbconvert_exporter": "python",
   "pygments_lexer": "ipython3",
   "version": "3.7.10"
  }
 },
 "nbformat": 4,
 "nbformat_minor": 2
}
