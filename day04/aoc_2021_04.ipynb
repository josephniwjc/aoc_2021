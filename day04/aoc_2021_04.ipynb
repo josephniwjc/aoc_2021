{
 "cells": [
  {
   "cell_type": "code",
   "execution_count": 1,
   "metadata": {},
   "outputs": [],
   "source": [
    "import os\n",
    "import numpy as np\n",
    "import copy"
   ]
  },
  {
   "cell_type": "code",
   "execution_count": 2,
   "metadata": {},
   "outputs": [],
   "source": [
    "def aoc_2021_04_1(file_path):\n",
    "    \"\"\"--- Day 4: Giant Squid --- Part One\"\"\"\n",
    "    \n",
    "    with open(file_path) as f:\n",
    "        aoc_read = f.read().split('\\n\\n')\n",
    "    \n",
    "    # read board info\n",
    "    call_list = [int(c) for c in aoc_read[0].split(',')]\n",
    "    board_list = [np.zeros((5, 5)) for _ in range(len(aoc_read) - 1)]\n",
    "    for i_board in range(len(aoc_read) - 1):\n",
    "        for i_row in range(5):\n",
    "            board_list[i_board][i_row, :] = aoc_read[i_board + 1].split('\\n')[i_row].replace('  ', ' ').lstrip(' ').rstrip(' ').split(' ')\n",
    "    \n",
    "    # predefine board row/column values\n",
    "    store_value = {}\n",
    "    for i_board in range(len(board_list)):\n",
    "        for i_rc in range(5):\n",
    "            for rc in range(2):\n",
    "                store_value[(i_board, i_rc, rc)] = 5\n",
    "    \n",
    "    # process each call\n",
    "    for i_call, call in enumerate(call_list):\n",
    "        for i_board, board in enumerate(board_list):\n",
    "            temp_idx = np.where(board == call)\n",
    "            \n",
    "            if len(temp_idx[0]) and len(temp_idx[1]):\n",
    "                store_value[(i_board, temp_idx[0][0], 0)] -= 1\n",
    "                store_value[(i_board, temp_idx[1][0], 1)] -= 1\n",
    "        \n",
    "        # break for first bingo\n",
    "        bingo_score = [k for k, v in store_value.items() if v == 0]\n",
    "        if bingo_score:\n",
    "            break\n",
    "\n",
    "    first_bingo = sum(set(np.array(board_list[bingo_score[0][0]].flatten(), dtype=int))  - set(call_list[:i_call + 1])) * call_list[i_call]\n",
    "\n",
    "    return first_bingo"
   ]
  },
  {
   "cell_type": "code",
   "execution_count": 3,
   "metadata": {},
   "outputs": [
    {
     "data": {
      "text/plain": [
       "4512"
      ]
     },
     "execution_count": 3,
     "metadata": {},
     "output_type": "execute_result"
    }
   ],
   "source": [
    "aoc_2021_04_1('example.txt')"
   ]
  },
  {
   "cell_type": "code",
   "execution_count": 4,
   "metadata": {},
   "outputs": [
    {
     "data": {
      "text/plain": [
       "50008"
      ]
     },
     "execution_count": 4,
     "metadata": {},
     "output_type": "execute_result"
    }
   ],
   "source": [
    "aoc_2021_04_1('input.txt')"
   ]
  },
  {
   "cell_type": "code",
   "execution_count": 5,
   "metadata": {},
   "outputs": [],
   "source": [
    "def aoc_2021_04_2(file_path):\n",
    "    \"\"\"--- Day 4: Giant Squid --- Part Two\"\"\"\n",
    "    \n",
    "    with open(file_path) as f:\n",
    "        aoc_read = f.read().split('\\n\\n')\n",
    "    \n",
    "    # read board info\n",
    "    call_list = [int(c) for c in aoc_read[0].split(',')]\n",
    "    board_list = [np.zeros((5, 5)) for _ in range(len(aoc_read) - 1)]\n",
    "    for i_board in range(len(aoc_read) - 1):\n",
    "        for i_row in range(5):\n",
    "            board_list[i_board][i_row, :] = aoc_read[i_board + 1].split('\\n')[i_row].replace('  ', ' ').lstrip(' ').rstrip(' ').split(' ')\n",
    "    \n",
    "    # predefine board row/column values\n",
    "    store_value = {}\n",
    "    for i_board in range(len(board_list)):\n",
    "        for i_rc in range(5):\n",
    "            for rc in range(2):\n",
    "                store_value[(i_board, i_rc, rc)] = 5\n",
    "\n",
    "    # process each call\n",
    "    board_set = set(range(len(board_list)))\n",
    "    for i_call, call in enumerate(call_list):\n",
    "        for i_board, board in enumerate(board_list):\n",
    "            temp_idx = np.where(board == call)\n",
    "\n",
    "            if len(temp_idx[0]) and len(temp_idx[1]):\n",
    "                store_value[(i_board, temp_idx[0][0], 0)] -= 1\n",
    "                store_value[(i_board, temp_idx[1][0], 1)] -= 1\n",
    "\n",
    "        bingo_score = [k for k, v in store_value.items() if v == 0]\n",
    "        if bingo_score:\n",
    "            board_set -= set([b[0] for b in bingo_score])\n",
    "        \n",
    "        # record last board\n",
    "        if len(board_set) == 1:\n",
    "            last_board = list(board_set)[0]\n",
    "        \n",
    "        # break when bingo for last board\n",
    "        if len(board_set) == 0:\n",
    "            break\n",
    "\n",
    "    last_bingo = sum(set(np.array(board_list[last_board].flatten(), dtype=int))  - set(call_list[:i_call + 1])) * call_list[i_call]\n",
    "    \n",
    "    return last_bingo"
   ]
  },
  {
   "cell_type": "code",
   "execution_count": 6,
   "metadata": {},
   "outputs": [
    {
     "data": {
      "text/plain": [
       "1924"
      ]
     },
     "execution_count": 6,
     "metadata": {},
     "output_type": "execute_result"
    }
   ],
   "source": [
    "aoc_2021_04_2('example.txt')"
   ]
  },
  {
   "cell_type": "code",
   "execution_count": 7,
   "metadata": {},
   "outputs": [
    {
     "data": {
      "text/plain": [
       "17408"
      ]
     },
     "execution_count": 7,
     "metadata": {},
     "output_type": "execute_result"
    }
   ],
   "source": [
    "aoc_2021_04_2('input.txt')"
   ]
  }
 ],
 "metadata": {
  "kernelspec": {
   "display_name": "Python 3",
   "language": "python",
   "name": "python3"
  },
  "language_info": {
   "codemirror_mode": {
    "name": "ipython",
    "version": 3
   },
   "file_extension": ".py",
   "mimetype": "text/x-python",
   "name": "python",
   "nbconvert_exporter": "python",
   "pygments_lexer": "ipython3",
   "version": "3.7.3"
  }
 },
 "nbformat": 4,
 "nbformat_minor": 2
}
