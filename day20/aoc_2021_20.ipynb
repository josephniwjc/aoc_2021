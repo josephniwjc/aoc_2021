{
 "cells": [
  {
   "cell_type": "code",
   "execution_count": 1,
   "metadata": {},
   "outputs": [],
   "source": [
    "import os\n",
    "import numpy as np\n",
    "import copy"
   ]
  },
  {
   "cell_type": "code",
   "execution_count": 2,
   "metadata": {},
   "outputs": [],
   "source": [
    "def aoc_2021_20(file_path, no_enhancement):\n",
    "    \"\"\"--- Day 20: Trench Map ---\"\"\"\n",
    "    \n",
    "    with open(file_path) as f:\n",
    "        aoc_read = f.read().split('\\n\\n')\n",
    "    \n",
    "    # intial image\n",
    "    image_enhancement, temp_image = aoc_read\n",
    "    input_image = np.array([list(t.replace('#', '1').replace('.', '0')) for t in temp_image.split('\\n')], dtype=int)\n",
    "    input_r, input_c = np.shape(input_image)\n",
    "    \n",
    "    # increasing radius based on the number of enhancements\n",
    "    fill_radius = max(input_r, input_c) + no_enhancement * 2\n",
    "    infinite_image = np.zeros((fill_radius * 2, fill_radius * 2))\n",
    "    infinite_image[fill_radius - input_r//2:fill_radius + input_r - input_r//2, :][:, fill_radius - input_c//2:fill_radius + input_c - input_c//2] = input_image\n",
    "    \n",
    "    # for each enhancement\n",
    "    for i_e in range(no_enhancement):\n",
    "        new_infinite_image = copy.deepcopy(infinite_image)\n",
    "        \n",
    "        # update pixel\n",
    "        for i_r in range(1, fill_radius * 2 - 1):\n",
    "            for i_c in range(1, fill_radius * 2 - 1):\n",
    "                pixel_environment = ''.join([str(int(p)) for p in infinite_image[i_r - 1 : i_r + 2, :][:, i_c - 1 : i_c + 2].flatten()])\n",
    "                new_pixel = int(image_enhancement[int(pixel_environment, 2)].replace('#', '1').replace('.', '0'))\n",
    "                new_infinite_image[i_r, i_c] = new_pixel\n",
    "\n",
    "        infinite_image = copy.deepcopy(new_infinite_image)\n",
    "    \n",
    "    # calculate number of pixels\n",
    "    no_pixels = len(np.where(infinite_image[no_enhancement:-no_enhancement, :][:, no_enhancement:-no_enhancement] == 1)[0])\n",
    "    \n",
    "    return no_pixels"
   ]
  },
  {
   "cell_type": "code",
   "execution_count": 3,
   "metadata": {},
   "outputs": [
    {
     "data": {
      "text/plain": [
       "35"
      ]
     },
     "execution_count": 3,
     "metadata": {},
     "output_type": "execute_result"
    }
   ],
   "source": [
    "aoc_2021_20('example.txt', 2)"
   ]
  },
  {
   "cell_type": "code",
   "execution_count": 4,
   "metadata": {},
   "outputs": [
    {
     "data": {
      "text/plain": [
       "5573"
      ]
     },
     "execution_count": 4,
     "metadata": {},
     "output_type": "execute_result"
    }
   ],
   "source": [
    "aoc_2021_20('input.txt', 2)"
   ]
  },
  {
   "cell_type": "code",
   "execution_count": 5,
   "metadata": {},
   "outputs": [
    {
     "data": {
      "text/plain": [
       "3351"
      ]
     },
     "execution_count": 5,
     "metadata": {},
     "output_type": "execute_result"
    }
   ],
   "source": [
    "aoc_2021_20('example.txt', 50)"
   ]
  },
  {
   "cell_type": "code",
   "execution_count": 6,
   "metadata": {},
   "outputs": [
    {
     "data": {
      "text/plain": [
       "20097"
      ]
     },
     "execution_count": 6,
     "metadata": {},
     "output_type": "execute_result"
    }
   ],
   "source": [
    "aoc_2021_20('input.txt', 50)"
   ]
  }
 ],
 "metadata": {
  "kernelspec": {
   "display_name": "Python 3",
   "language": "python",
   "name": "python3"
  },
  "language_info": {
   "codemirror_mode": {
    "name": "ipython",
    "version": 3
   },
   "file_extension": ".py",
   "mimetype": "text/x-python",
   "name": "python",
   "nbconvert_exporter": "python",
   "pygments_lexer": "ipython3",
   "version": "3.7.3"
  }
 },
 "nbformat": 4,
 "nbformat_minor": 2
}
