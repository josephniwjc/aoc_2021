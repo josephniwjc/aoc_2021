{
 "cells": [
  {
   "cell_type": "code",
   "execution_count": 1,
   "metadata": {},
   "outputs": [],
   "source": [
    "import os\n",
    "import numpy as np\n",
    "import matplotlib.pyplot as plt"
   ]
  },
  {
   "cell_type": "code",
   "execution_count": 2,
   "metadata": {},
   "outputs": [],
   "source": [
    "def aoc_2021_13_1(file_path):\n",
    "    \"\"\"--- Day 13: Transparent Origami --- Part One\"\"\"\n",
    "    \n",
    "    with open(file_path) as f:\n",
    "        aoc_read = f.read().split('\\n\\n')\n",
    "        dot_read, fold_read = aoc_read\n",
    "    \n",
    "    # transparent paper dimension\n",
    "    dot_idx = [tuple(int(idx) for idx in d.split(',')) for d in dot_read.split('\\n')]\n",
    "    no_x = max([d[0] for d in dot_idx]) + 1\n",
    "    no_y = max([d[1] for d in dot_idx]) + 1\n",
    "    if not no_x % 2:\n",
    "        no_x += 1\n",
    "    if not no_y % 2:\n",
    "        no_y += 1\n",
    "    \n",
    "    # fold instructions\n",
    "    fold_list = [f for f in fold_read.split('\\n')]\n",
    "    fold_list = [f.split(' ')[-1] for f in fold_list]\n",
    "    fold_list = [(f.split('=')[0], int(f.split('=')[1])) for f in fold_list if f]\n",
    "    \n",
    "    # initial dots\n",
    "    dot_array = np.zeros((no_x, no_y))\n",
    "    for dot in dot_idx:\n",
    "        dot_array[dot] = 1\n",
    "    \n",
    "    # first fold\n",
    "    for fold in [fold_list[0]]:\n",
    "        direction, line = fold\n",
    "        \n",
    "        if direction == 'y':\n",
    "            temp_upper_array = dot_array[:, 0: line]\n",
    "            temp_lower_array = dot_array[:, line+1:]\n",
    "            dot_array = temp_upper_array + np.flip(temp_lower_array, axis=1)\n",
    "        else:\n",
    "            temp_left_array = dot_array[0: line, :]\n",
    "            temp_right_array = dot_array[line+1:, :]\n",
    "            dot_array = temp_left_array + np.flip(temp_right_array, axis=0)\n",
    "\n",
    "    temp_nonzero = np.where(dot_array != 0)\n",
    "    visible_dots = len(temp_nonzero[0])\n",
    "    \n",
    "    return visible_dots"
   ]
  },
  {
   "cell_type": "code",
   "execution_count": 3,
   "metadata": {},
   "outputs": [
    {
     "data": {
      "text/plain": [
       "17"
      ]
     },
     "execution_count": 3,
     "metadata": {},
     "output_type": "execute_result"
    }
   ],
   "source": [
    "aoc_2021_13_1('example.txt')"
   ]
  },
  {
   "cell_type": "code",
   "execution_count": 4,
   "metadata": {},
   "outputs": [
    {
     "data": {
      "text/plain": [
       "708"
      ]
     },
     "execution_count": 4,
     "metadata": {},
     "output_type": "execute_result"
    }
   ],
   "source": [
    "aoc_2021_13_1('input.txt')"
   ]
  },
  {
   "cell_type": "code",
   "execution_count": 5,
   "metadata": {},
   "outputs": [],
   "source": [
    "def aoc_2021_13_2(file_path):\n",
    "    \"\"\"--- Day 13: Transparent Origami --- Part Two\"\"\"\n",
    "    \n",
    "    with open(file_path) as f:\n",
    "        aoc_read = f.read().split('\\n\\n')\n",
    "        dot_read, fold_read = aoc_read\n",
    "    \n",
    "    # transparent paper dimension\n",
    "    dot_idx = [tuple(int(idx) for idx in d.split(',')) for d in dot_read.split('\\n')]\n",
    "    no_x = max([d[0] for d in dot_idx]) + 1\n",
    "    no_y = max([d[1] for d in dot_idx]) + 1\n",
    "    if not no_x % 2:\n",
    "        no_x += 1\n",
    "    if not no_y % 2:\n",
    "        no_y += 1\n",
    "    \n",
    "    # fold instructions\n",
    "    fold_list = [f for f in fold_read.split('\\n')]\n",
    "    fold_list = [f.split(' ')[-1] for f in fold_list]\n",
    "    fold_list = [(f.split('=')[0], int(f.split('=')[1])) for f in fold_list if f]\n",
    "    \n",
    "    # initial dots\n",
    "    dot_array = np.zeros((no_x, no_y))\n",
    "    for dot in dot_idx:\n",
    "        dot_array[dot] = 1\n",
    "    \n",
    "    # all folds\n",
    "    for fold in fold_list:\n",
    "        direction, line = fold\n",
    "        \n",
    "        if direction == 'y':\n",
    "            temp_upper_array = dot_array[:, 0: line]\n",
    "            temp_lower_array = dot_array[:, line+1:]\n",
    "            dot_array = temp_upper_array + np.flip(temp_lower_array, axis=1)\n",
    "        else:\n",
    "            temp_left_array = dot_array[0: line, :]\n",
    "            temp_right_array = dot_array[line+1:, :]\n",
    "            dot_array = temp_left_array + np.flip(temp_right_array, axis=0)\n",
    "    \n",
    "    # plot fold figure\n",
    "    temp_nonzero = np.where(dot_array != 0)\n",
    "    x_idx, y_idx = temp_nonzero\n",
    "    plt.figure(figsize=(17, 5))\n",
    "    plt.scatter(x_idx, -y_idx)\n",
    "    \n",
    "    return"
   ]
  },
  {
   "cell_type": "code",
   "execution_count": 6,
   "metadata": {},
   "outputs": [
    {
     "data": {
      "image/png": "[encoded data removed]",
      "text/plain": [
       "<Figure size 1224x360 with 1 Axes>"
      ]
     },
     "metadata": {
      "needs_background": "light"
     },
     "output_type": "display_data"
    }
   ],
   "source": [
    "aoc_2021_13_2('input.txt')"
   ]
  }
 ],
 "metadata": {
  "kernelspec": {
   "display_name": "Python 3",
   "language": "python",
   "name": "python3"
  },
  "language_info": {
   "codemirror_mode": {
    "name": "ipython",
    "version": 3
   },
   "file_extension": ".py",
   "mimetype": "text/x-python",
   "name": "python",
   "nbconvert_exporter": "python",
   "pygments_lexer": "ipython3",
   "version": "3.7.3"
  }
 },
 "nbformat": 4,
 "nbformat_minor": 2
}
