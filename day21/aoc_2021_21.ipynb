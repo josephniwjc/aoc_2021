{
 "cells": [
  {
   "cell_type": "code",
   "execution_count": 1,
   "metadata": {},
   "outputs": [],
   "source": [
    "import os\n",
    "import copy\n",
    "import itertools\n",
    "import collections"
   ]
  },
  {
   "cell_type": "code",
   "execution_count": 2,
   "metadata": {},
   "outputs": [],
   "source": [
    "def aoc_2021_21_1(file_path):\n",
    "    \"\"\"--- Day 21: Dirac Dice --- Part One\"\"\"\n",
    "    \n",
    "    with open(file_path) as f:\n",
    "        aoc_read = f.read().split('\\n')\n",
    "\n",
    "    player0_pos, player1_pos = [int(f.split(': ')[1]) for f in aoc_read]\n",
    "    \n",
    "    # initialize die\n",
    "    player0_score = 0\n",
    "    player1_score = 0\n",
    "    deterministic_die = 0\n",
    "    die_count = 0\n",
    "    \n",
    "    # while game still playing for deterministic die\n",
    "    while True:\n",
    "        \n",
    "        # roll three times\n",
    "        for _ in range(3):\n",
    "            deterministic_die += 1\n",
    "            deterministic_die = (deterministic_die - 1) % 100 + 1\n",
    "            player0_pos += deterministic_die\n",
    "            player0_pos = (player0_pos - 1) % 10 + 1\n",
    "            die_count += 1\n",
    "\n",
    "        player0_score += player0_pos\n",
    "        if player0_score >= 1000:\n",
    "            break\n",
    "        \n",
    "        # roll three times\n",
    "        for _ in range(3):\n",
    "            deterministic_die += 1\n",
    "            deterministic_die = (deterministic_die - 1) % 100 + 1\n",
    "            player1_pos += deterministic_die\n",
    "            player1_pos = (player1_pos - 1) % 10 + 1\n",
    "            die_count += 1\n",
    "\n",
    "        player1_score += player1_pos\n",
    "        if player1_score >= 1000:\n",
    "            break\n",
    "\n",
    "    score_die_product = die_count * min(player0_score, player1_score)\n",
    "    \n",
    "    return score_die_product"
   ]
  },
  {
   "cell_type": "code",
   "execution_count": 3,
   "metadata": {},
   "outputs": [
    {
     "data": {
      "text/plain": [
       "739785"
      ]
     },
     "execution_count": 3,
     "metadata": {},
     "output_type": "execute_result"
    }
   ],
   "source": [
    "aoc_2021_21_1('example.txt')"
   ]
  },
  {
   "cell_type": "code",
   "execution_count": 4,
   "metadata": {},
   "outputs": [
    {
     "data": {
      "text/plain": [
       "893700"
      ]
     },
     "execution_count": 4,
     "metadata": {},
     "output_type": "execute_result"
    }
   ],
   "source": [
    "aoc_2021_21_1('input.txt')"
   ]
  },
  {
   "cell_type": "code",
   "execution_count": 5,
   "metadata": {},
   "outputs": [],
   "source": [
    "def aoc_2021_21_2(file_path):\n",
    "    \"\"\"--- Day 21: Dirac Dice --- Part Two\"\"\"\n",
    "    \n",
    "    with open(file_path) as f:\n",
    "        aoc_read = f.read().split('\\n')\n",
    "\n",
    "    player0_pos, player1_pos = [int(f.split(': ')[1]) for f in aoc_read]\n",
    "    die_universe_dict = dict(collections.Counter([sum(s) for s in list(itertools.product([1, 2, 3], [1, 2, 3], [1, 2, 3]))]))\n",
    "\n",
    "    # gen, pos0, pos1, score0, score1\n",
    "    universe_count_dict = collections.defaultdict(int)\n",
    "    universe_count_dict[(0, player0_pos, player1_pos, 0, 0)] = 1\n",
    "    game_list = [(0, player0_pos, player1_pos, 0, 0)]\n",
    "\n",
    "    universe_win0 = 0\n",
    "    universe_win1 = 0\n",
    "    \n",
    "    # while game still playing\n",
    "    while game_list:\n",
    "        next_game_set = set()\n",
    "        \n",
    "        # for each game\n",
    "        for game in game_list:\n",
    "            gen, pos0, pos1, score0, score1 = game\n",
    "            previous_universe = universe_count_dict[game]\n",
    "            next_gen = gen + 1\n",
    "\n",
    "            # for each dice universe\n",
    "            for die, universe in die_universe_dict.items():\n",
    "\n",
    "                # turn of player 0\n",
    "                if not gen % 2:\n",
    "                    next_pos0 = (pos0 + die - 1) % 10 + 1\n",
    "                    next_pos1 = pos1\n",
    "                    next_score0 = score0 + next_pos0\n",
    "                    next_score1 = score1\n",
    "\n",
    "                # turn of player 1\n",
    "                else:\n",
    "                    next_pos0 = pos0\n",
    "                    next_pos1 = (pos1 + die - 1) % 10 + 1\n",
    "                    next_score0 = score0\n",
    "                    next_score1 = score1 + next_pos1\n",
    "\n",
    "                # if game ends\n",
    "                if next_score0 >= 21:\n",
    "                    universe_win0 += previous_universe * universe\n",
    "                elif next_score1 >= 21:\n",
    "                    universe_win1 += previous_universe * universe\n",
    "\n",
    "                # continue game\n",
    "                else:\n",
    "                    next_game = (next_gen, next_pos0, next_pos1, next_score0, next_score1)\n",
    "                    universe_count_dict[next_game] += previous_universe * universe\n",
    "                    next_game_set.add(next_game)\n",
    "\n",
    "        # update list of next games to play\n",
    "        game_list = copy.deepcopy(sorted(next_game_set))\n",
    "\n",
    "    winner_universe = max(universe_win0, universe_win1)\n",
    "\n",
    "    return winner_universe"
   ]
  },
  {
   "cell_type": "code",
   "execution_count": 6,
   "metadata": {},
   "outputs": [
    {
     "data": {
      "text/plain": [
       "444356092776315"
      ]
     },
     "execution_count": 6,
     "metadata": {},
     "output_type": "execute_result"
    }
   ],
   "source": [
    "aoc_2021_21_2('example.txt')"
   ]
  },
  {
   "cell_type": "code",
   "execution_count": 7,
   "metadata": {},
   "outputs": [
    {
     "data": {
      "text/plain": [
       "568867175661958"
      ]
     },
     "execution_count": 7,
     "metadata": {},
     "output_type": "execute_result"
    }
   ],
   "source": [
    "aoc_2021_21_2('input.txt')"
   ]
  }
 ],
 "metadata": {
  "kernelspec": {
   "display_name": "Python 3 (ipykernel)",
   "language": "python",
   "name": "python3"
  },
  "language_info": {
   "codemirror_mode": {
    "name": "ipython",
    "version": 3
   },
   "file_extension": ".py",
   "mimetype": "text/x-python",
   "name": "python",
   "nbconvert_exporter": "python",
   "pygments_lexer": "ipython3",
   "version": "3.7.10"
  }
 },
 "nbformat": 4,
 "nbformat_minor": 2
}
