{
 "cells": [
  {
   "cell_type": "code",
   "execution_count": 1,
   "metadata": {},
   "outputs": [],
   "source": [
    "import os\n",
    "import numpy as np\n",
    "import networkx as nx"
   ]
  },
  {
   "cell_type": "code",
   "execution_count": 2,
   "metadata": {},
   "outputs": [],
   "source": [
    "def aoc_2021_15_1(file_path):\n",
    "    \"\"\"--- Day 15: Chiton --- Part One\"\"\"\n",
    "    \n",
    "    with open(file_path) as f:\n",
    "        aoc_read = f.read().split('\\n')\n",
    "    \n",
    "    # risk level\n",
    "    risk_array = np.array([list(l) for l in aoc_read], dtype=int)\n",
    "    no_row, no_col = np.shape(risk_array)\n",
    "    risk_graph = nx.DiGraph()\n",
    "    \n",
    "    # generate risk digraph\n",
    "    for i_row in range(no_row):\n",
    "        for i_col in range(no_col):\n",
    "            \n",
    "            # neighbor indices\n",
    "            neighbor_idx = [(i_row + 1, i_col), (i_row - 1, i_col), (i_row, i_col + 1), (i_row, i_col - 1)]\n",
    "            neighbor_idx = [n for n in neighbor_idx if 0 <= n[0] < no_row and 0 <= n[1] < no_col]\n",
    "            \n",
    "            # add neighbors\n",
    "            for neighbor in neighbor_idx:\n",
    "                risk_graph.add_edge((i_row, i_col), neighbor, weight=risk_array[neighbor])\n",
    "    \n",
    "    # path of lowest risk\n",
    "    low_risk_path = nx.algorithms.shortest_paths.weighted.dijkstra_path(risk_graph, (0, 0), (no_row - 1, no_col - 1), weight='weight')\n",
    "    tot_risk = sum([risk_array[r] for r in low_risk_path[1:]])\n",
    "\n",
    "    return tot_risk"
   ]
  },
  {
   "cell_type": "code",
   "execution_count": 3,
   "metadata": {},
   "outputs": [
    {
     "data": {
      "text/plain": [
       "40"
      ]
     },
     "execution_count": 3,
     "metadata": {},
     "output_type": "execute_result"
    }
   ],
   "source": [
    "aoc_2021_15_1('example.txt')"
   ]
  },
  {
   "cell_type": "code",
   "execution_count": 4,
   "metadata": {},
   "outputs": [
    {
     "data": {
      "text/plain": [
       "386"
      ]
     },
     "execution_count": 4,
     "metadata": {},
     "output_type": "execute_result"
    }
   ],
   "source": [
    "aoc_2021_15_1('input.txt')"
   ]
  },
  {
   "cell_type": "code",
   "execution_count": 5,
   "metadata": {},
   "outputs": [],
   "source": [
    "def aoc_2021_15_2(file_path):\n",
    "    \"\"\"--- Day 15: Chiton --- Part Two\"\"\"\n",
    "    \n",
    "    with open(file_path) as f:\n",
    "        aoc_read = f.read().split('\\n')\n",
    "    \n",
    "    # risk level\n",
    "    risk_array = np.array([list(l) for l in aoc_read], dtype=int)\n",
    "    full_risk_array = np.tile(risk_array, (5, 5))\n",
    "    no_row, no_col = np.shape(risk_array)\n",
    "    no_full_row, no_full_col = np.shape(full_risk_array)\n",
    "    full_risk_graph = nx.DiGraph()\n",
    "    \n",
    "    # generate full risk array\n",
    "    for ir_tile in range(5):\n",
    "        for ic_tile in range(5):\n",
    "            add_no = ir_tile + ic_tile\n",
    "            temp_array = full_risk_array[ir_tile * no_row : (ir_tile + 1) * no_row, :][:, ic_tile * no_col : (ic_tile + 1) * no_col]\n",
    "            temp_array += add_no\n",
    "            temp_array = (temp_array - 1) % 9 + 1\n",
    "            full_risk_array[ir_tile * no_row : (ir_tile + 1) * no_row, :][:, ic_tile * no_col : (ic_tile + 1) * no_col] = temp_array\n",
    "        \n",
    "    # generate risk digraph\n",
    "    for i_row in range(no_full_row):\n",
    "        for i_col in range(no_full_col):\n",
    "            \n",
    "            # neighbor indices\n",
    "            neighbor_idx = [(i_row + 1, i_col), (i_row - 1, i_col), (i_row, i_col + 1), (i_row, i_col - 1)]\n",
    "            neighbor_idx = [n for n in neighbor_idx if 0 <= n[0] < no_full_row and 0 <= n[1] < no_full_col]\n",
    "            \n",
    "            # add neighbors\n",
    "            for neighbor in neighbor_idx:\n",
    "                full_risk_graph.add_edge((i_row, i_col), neighbor, weight=full_risk_array[neighbor])\n",
    "    \n",
    "    # path of lowest risk\n",
    "    low_full_risk_path = nx.algorithms.shortest_paths.weighted.dijkstra_path(full_risk_graph, (0, 0), (no_full_row - 1, no_full_col - 1), weight='weight')\n",
    "    tot_full_risk = sum([full_risk_array[r] for r in low_full_risk_path[1:]])\n",
    "\n",
    "    return tot_full_risk"
   ]
  },
  {
   "cell_type": "code",
   "execution_count": 6,
   "metadata": {},
   "outputs": [
    {
     "data": {
      "text/plain": [
       "315"
      ]
     },
     "execution_count": 6,
     "metadata": {},
     "output_type": "execute_result"
    }
   ],
   "source": [
    "aoc_2021_15_2('example.txt')"
   ]
  },
  {
   "cell_type": "code",
   "execution_count": 7,
   "metadata": {},
   "outputs": [
    {
     "data": {
      "text/plain": [
       "2806"
      ]
     },
     "execution_count": 7,
     "metadata": {},
     "output_type": "execute_result"
    }
   ],
   "source": [
    "aoc_2021_15_2('input.txt')"
   ]
  }
 ],
 "metadata": {
  "kernelspec": {
   "display_name": "Python 3",
   "language": "python",
   "name": "python3"
  },
  "language_info": {
   "codemirror_mode": {
    "name": "ipython",
    "version": 3
   },
   "file_extension": ".py",
   "mimetype": "text/x-python",
   "name": "python",
   "nbconvert_exporter": "python",
   "pygments_lexer": "ipython3",
   "version": "3.7.3"
  }
 },
 "nbformat": 4,
 "nbformat_minor": 2
}
