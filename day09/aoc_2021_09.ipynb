{
 "cells": [
  {
   "cell_type": "code",
   "execution_count": 1,
   "metadata": {},
   "outputs": [],
   "source": [
    "import os\n",
    "import numpy as np\n",
    "import collections"
   ]
  },
  {
   "cell_type": "code",
   "execution_count": 2,
   "metadata": {},
   "outputs": [],
   "source": [
    "def aoc_2021_09_1(file_path):\n",
    "    \"\"\"--- Day 9: Smoke Basin --- Part One\"\"\"\n",
    "    \n",
    "    with open(file_path) as f:\n",
    "        aoc_read = f.read().split('\\n')\n",
    "    \n",
    "    # add edge to height map\n",
    "    heightmap_array = np.array([list(f) for f in aoc_read], dtype=int)\n",
    "    no_row, no_col = np.shape(heightmap_array)\n",
    "    full_heightmap_array = np.transpose(np.vstack([np.repeat(10, no_row + 2), np.transpose(np.vstack([np.repeat(10, no_col), heightmap_array, np.repeat(10, no_col)])), np.repeat(10, no_row + 2)]))\n",
    "    \n",
    "    # iterate over all points to find risk values\n",
    "    risk_list = []\n",
    "    for r in range(1, no_row + 1):\n",
    "        for c in range(1, no_col + 1):\n",
    "            if full_heightmap_array[r, c] < min([full_heightmap_array[r-1, c], full_heightmap_array[r+1, c], full_heightmap_array[r, c-1], full_heightmap_array[r, c+1]]):\n",
    "                risk_list.append(full_heightmap_array[r, c])\n",
    "\n",
    "    risk_sum = sum(risk_list) + len(risk_list)\n",
    "    \n",
    "    return risk_sum"
   ]
  },
  {
   "cell_type": "code",
   "execution_count": 3,
   "metadata": {},
   "outputs": [
    {
     "data": {
      "text/plain": [
       "15"
      ]
     },
     "execution_count": 3,
     "metadata": {},
     "output_type": "execute_result"
    }
   ],
   "source": [
    "aoc_2021_09_1('example.txt')"
   ]
  },
  {
   "cell_type": "code",
   "execution_count": 4,
   "metadata": {},
   "outputs": [
    {
     "data": {
      "text/plain": [
       "562"
      ]
     },
     "execution_count": 4,
     "metadata": {},
     "output_type": "execute_result"
    }
   ],
   "source": [
    "aoc_2021_09_1('input.txt')"
   ]
  },
  {
   "cell_type": "code",
   "execution_count": 5,
   "metadata": {},
   "outputs": [],
   "source": [
    "def aoc_2021_09_2(file_path):\n",
    "    \"\"\"--- Day 9: Smoke Basin --- Part Two\"\"\"\n",
    "    \n",
    "    # find basin locations\n",
    "    def _find_basin(current_location):\n",
    "        \"\"\"Recursive function to find basin locations\"\"\"\n",
    "        \n",
    "        r, c = current_location\n",
    "        risk_set.add(current_location)\n",
    "        \n",
    "        # find <9 neighbors not visited\n",
    "        neighbors = [(r-1, c), (r+1, c), (r, c-1), (r, c+1)]\n",
    "        neighbors = [n for n in neighbors if 0 <= n[0] <= no_row - 1 and 0 <= n[1] <= no_col - 1]\n",
    "        neighbors = [n for n in neighbors if heightmap_array[n] != 9]\n",
    "        neighbors = [n for n in neighbors if n not in risk_set]\n",
    "        \n",
    "        # visit valid neighbors\n",
    "        if neighbors:\n",
    "            [_find_basin(n) for n in neighbors]\n",
    "    \n",
    "    with open(file_path) as f:\n",
    "        aoc_read = f.read().split('\\n')\n",
    "    \n",
    "    # add edge to height map\n",
    "    heightmap_array = np.array([list(f) for f in aoc_read], dtype=int)\n",
    "    no_row, no_col = np.shape(heightmap_array)\n",
    "    full_heightmap_array = np.transpose(np.vstack([np.repeat(10, no_row + 2), np.transpose(np.vstack([np.repeat(10, no_col), heightmap_array, np.repeat(10, no_col)])), np.repeat(10, no_row + 2)]))\n",
    "    \n",
    "    # iterate over all points to find risk locations\n",
    "    risk_location = []\n",
    "    for r in range(1, no_row + 1):\n",
    "        for c in range(1, no_col + 1):\n",
    "            if full_heightmap_array[r, c] < min([full_heightmap_array[r-1, c], full_heightmap_array[r+1, c], full_heightmap_array[r, c-1], full_heightmap_array[r, c+1]]):\n",
    "                risk_location.append((r-1, c-1))\n",
    "    \n",
    "    # find basin for each risk location\n",
    "    risk_list = []\n",
    "    for i_risk in range(len(risk_location)):\n",
    "        risk_set = {risk_location[i_risk]}\n",
    "        _find_basin(risk_location[i_risk])\n",
    "        risk_list.append(len(risk_set))\n",
    "\n",
    "    basin_prod = np.prod(np.sort(risk_list)[::-1][:3])\n",
    "    \n",
    "    return basin_prod"
   ]
  },
  {
   "cell_type": "code",
   "execution_count": 6,
   "metadata": {},
   "outputs": [
    {
     "data": {
      "text/plain": [
       "1134"
      ]
     },
     "execution_count": 6,
     "metadata": {},
     "output_type": "execute_result"
    }
   ],
   "source": [
    "aoc_2021_09_2('example.txt')"
   ]
  },
  {
   "cell_type": "code",
   "execution_count": 7,
   "metadata": {},
   "outputs": [
    {
     "data": {
      "text/plain": [
       "1076922"
      ]
     },
     "execution_count": 7,
     "metadata": {},
     "output_type": "execute_result"
    }
   ],
   "source": [
    "aoc_2021_09_2('input.txt')"
   ]
  }
 ],
 "metadata": {
  "kernelspec": {
   "display_name": "Python 3",
   "language": "python",
   "name": "python3"
  },
  "language_info": {
   "codemirror_mode": {
    "name": "ipython",
    "version": 3
   },
   "file_extension": ".py",
   "mimetype": "text/x-python",
   "name": "python",
   "nbconvert_exporter": "python",
   "pygments_lexer": "ipython3",
   "version": "3.7.3"
  }
 },
 "nbformat": 4,
 "nbformat_minor": 2
}
