{
 "cells": [
  {
   "cell_type": "code",
   "execution_count": 1,
   "metadata": {},
   "outputs": [],
   "source": [
    "import os\n",
    "import numpy as np"
   ]
  },
  {
   "cell_type": "code",
   "execution_count": 2,
   "metadata": {},
   "outputs": [],
   "source": [
    "def aoc_2021_16_1(file_path):\n",
    "    \"\"\"--- Day 16: Packet Decoder --- Part One\"\"\"\n",
    "    \n",
    "    def hex_to_bin(hex_string):\n",
    "        \"\"\"Translate hex code to binary\"\"\"\n",
    "        \n",
    "        bin_string = ''\n",
    "        for s in hex_string:\n",
    "            bin_string += bin(int(s, 16))[2:].zfill(4)\n",
    "        return bin_string\n",
    "    \n",
    "    def parse_hex(binary_string):\n",
    "        \"\"\"Recursive function to parse binary code\"\"\"\n",
    "        \n",
    "        # ending zeros\n",
    "        if len(binary_string) < 11:\n",
    "            return 0, ''\n",
    "        \n",
    "        # literal\n",
    "        try:\n",
    "            v = int(binary_string[:3], 2)\n",
    "            t = int(binary_string[3:6], 2)\n",
    "        except ValueError:\n",
    "            return 0, ''\n",
    "\n",
    "        if t == 4:\n",
    "            temp_value = binary_string[6:]\n",
    "            len_group = len(temp_value) // 5\n",
    "            literal = []\n",
    "            for group in range(len_group):\n",
    "                if int(temp_value[5 * group]) == 0:\n",
    "                    break\n",
    "            return v, temp_value[5 * group + 5:]\n",
    "\n",
    "        # operator\n",
    "        else:\n",
    "            try:\n",
    "                i = int(binary_string[6])\n",
    "            except ValueError:\n",
    "                return 0, ''\n",
    "\n",
    "            # next 15 bits\n",
    "            if i == 0:\n",
    "                try:\n",
    "                    l = int(binary_string[7:22], 2)\n",
    "                except ValueError:\n",
    "                    return 0, ''\n",
    "\n",
    "                temp_value = binary_string[22:22 + l]\n",
    "                len_value = len(temp_value)\n",
    "                if not len_value:\n",
    "                    return 0, ''\n",
    "\n",
    "                temp_v_list = []\n",
    "                while len_value:\n",
    "                    temp_v, temp_value = parse_hex(temp_value)\n",
    "                    temp_v_list.append(temp_v)\n",
    "                    len_value = len(temp_value)\n",
    "\n",
    "                return v + sum(temp_v_list), binary_string[22 + l:]\n",
    "\n",
    "            # next 11 bits\n",
    "            elif i == 1:\n",
    "                try:\n",
    "                    l = int(binary_string[7:18], 2)\n",
    "                except ValueError:\n",
    "                    return 0, ''\n",
    "\n",
    "                temp_value = binary_string[18:]\n",
    "                len_value = len(temp_value)\n",
    "                if not len_value:\n",
    "                    return 0, ''\n",
    "\n",
    "                temp_v_list = []\n",
    "                for _ in range(l):\n",
    "                    temp_v, temp_value = parse_hex(temp_value)\n",
    "                    temp_v_list.append(temp_v)\n",
    "                    len_value = len(temp_value)\n",
    "\n",
    "                return v + sum(temp_v_list), temp_value\n",
    "    \n",
    "    # parse hex code\n",
    "    with open(file_path) as f:\n",
    "        aoc_read = f.read().split('\\n')[0]  \n",
    "    version_sum = parse_hex(hex_to_bin(aoc_read))[0]\n",
    "    \n",
    "    return version_sum"
   ]
  },
  {
   "cell_type": "code",
   "execution_count": 3,
   "metadata": {},
   "outputs": [
    {
     "data": {
      "text/plain": [
       "16"
      ]
     },
     "execution_count": 3,
     "metadata": {},
     "output_type": "execute_result"
    }
   ],
   "source": [
    "aoc_2021_16_1('example1_1.txt')"
   ]
  },
  {
   "cell_type": "code",
   "execution_count": 4,
   "metadata": {},
   "outputs": [
    {
     "data": {
      "text/plain": [
       "12"
      ]
     },
     "execution_count": 4,
     "metadata": {},
     "output_type": "execute_result"
    }
   ],
   "source": [
    "aoc_2021_16_1('example1_2.txt')"
   ]
  },
  {
   "cell_type": "code",
   "execution_count": 5,
   "metadata": {},
   "outputs": [
    {
     "data": {
      "text/plain": [
       "23"
      ]
     },
     "execution_count": 5,
     "metadata": {},
     "output_type": "execute_result"
    }
   ],
   "source": [
    "aoc_2021_16_1('example1_3.txt')"
   ]
  },
  {
   "cell_type": "code",
   "execution_count": 6,
   "metadata": {},
   "outputs": [
    {
     "data": {
      "text/plain": [
       "31"
      ]
     },
     "execution_count": 6,
     "metadata": {},
     "output_type": "execute_result"
    }
   ],
   "source": [
    "aoc_2021_16_1('example1_4.txt')"
   ]
  },
  {
   "cell_type": "code",
   "execution_count": 7,
   "metadata": {},
   "outputs": [],
   "source": [
    "def aoc_2021_16_2(file_path):\n",
    "    \"\"\"--- Day 16: Packet Decoder --- Part Two\"\"\"\n",
    "    \n",
    "    def hex_to_bin(hex_string):\n",
    "        \"\"\"Translate hex code to binary\"\"\"\n",
    "        \n",
    "        bin_string = ''\n",
    "        for s in hex_string:\n",
    "            bin_string += bin(int(s, 16))[2:].zfill(4)\n",
    "        return bin_string\n",
    "    \n",
    "    def hex_ops(type, literal_list):\n",
    "        \"\"\"Operations based on type ID\"\"\"\n",
    "        \n",
    "        # sum\n",
    "        if type == 0:\n",
    "            return np.sum(literal_list, dtype=int)\n",
    "        # product\n",
    "        elif type == 1:\n",
    "            return np.prod(literal_list, dtype=int)\n",
    "        # minimal\n",
    "        elif type == 2:\n",
    "            return min(literal_list)\n",
    "        # maximum\n",
    "        elif type == 3:\n",
    "            return max(literal_list)\n",
    "        \n",
    "        # other conditions\n",
    "        elif type not in [5, 6, 7] or len(literal_list) != 2:\n",
    "            raise ValueError\n",
    "            \n",
    "        # if greater than\n",
    "        if type == 5:\n",
    "            if literal_list[0] > literal_list[1]:\n",
    "                return 1\n",
    "            else:\n",
    "                return 0\n",
    "        # if smaller than\n",
    "        elif type == 6:\n",
    "            if literal_list[0] < literal_list[1]:\n",
    "                return 1\n",
    "            else:\n",
    "                return 0\n",
    "        # if equal\n",
    "        else:\n",
    "            if literal_list[0] == literal_list[1]:\n",
    "                return 1\n",
    "            else:\n",
    "                return 0\n",
    "\n",
    "    def calculate_hex(binary_string):\n",
    "        \"\"\"Recursive function to calculate binary code\"\"\"\n",
    "        \n",
    "        # ending zeros\n",
    "        if len(binary_string) < 11:\n",
    "            return 0, ''\n",
    "        \n",
    "        # literal\n",
    "        try:\n",
    "            t = int(binary_string[3:6], 2)\n",
    "        except ValueError:\n",
    "            return 0, ''\n",
    "        \n",
    "        if t == 4:\n",
    "            temp_value = binary_string[6:]\n",
    "            len_group = len(temp_value) // 5\n",
    "            literal = []\n",
    "            for group in range(len_group):\n",
    "                literal += temp_value[5 * group + 1: 5 * group + 5]\n",
    "                if int(temp_value[5 * group]) == 0:\n",
    "                    break\n",
    "            return int(''.join(literal), 2), temp_value[5 * group + 5:]\n",
    "\n",
    "        # operator\n",
    "        else:\n",
    "            try:\n",
    "                i = int(binary_string[6])\n",
    "            except ValueError:\n",
    "                return 0, ''\n",
    "\n",
    "            # next 15 bits\n",
    "            if i == 0:\n",
    "                try:\n",
    "                    l = int(binary_string[7:22], 2)\n",
    "                except ValueError:\n",
    "                    return 0, ''\n",
    "\n",
    "                temp_value = binary_string[22:22 + l]\n",
    "                len_value = len(temp_value)\n",
    "                if not len_value:\n",
    "                    return 0, ''\n",
    "\n",
    "                temp_l_list = []\n",
    "                while len_value:\n",
    "                    temp_l, temp_value = calculate_hex(temp_value)\n",
    "                    temp_l_list.append(temp_l)\n",
    "                    len_value = len(temp_value)\n",
    "\n",
    "                return hex_ops(t, temp_l_list), binary_string[22 + l:]\n",
    "\n",
    "            # next 11 bits\n",
    "            elif i == 1:\n",
    "                try:\n",
    "                    l = int(binary_string[7:18], 2)\n",
    "                except ValueError:\n",
    "                    return 0, ''\n",
    "\n",
    "                temp_value = binary_string[18:]\n",
    "                len_value = len(temp_value)\n",
    "                if not len_value:\n",
    "                    return 0, ''\n",
    "\n",
    "                temp_l_list = []\n",
    "                for _ in range(l):\n",
    "                    temp_l, temp_value = calculate_hex(temp_value)\n",
    "                    temp_l_list.append(temp_l)\n",
    "                    len_value = len(temp_value)\n",
    "\n",
    "                return hex_ops(t, temp_l_list), temp_value\n",
    "    \n",
    "    # calculate hex code\n",
    "    with open(file_path) as f:\n",
    "        aoc_read = f.read().split('\\n')[0]  \n",
    "    evaluate_expression = calculate_hex(hex_to_bin(aoc_read))[0]\n",
    "    \n",
    "    return evaluate_expression"
   ]
  },
  {
   "cell_type": "code",
   "execution_count": 8,
   "metadata": {},
   "outputs": [
    {
     "data": {
      "text/plain": [
       "3"
      ]
     },
     "execution_count": 8,
     "metadata": {},
     "output_type": "execute_result"
    }
   ],
   "source": [
    "aoc_2021_16_2('example2_1.txt')"
   ]
  },
  {
   "cell_type": "code",
   "execution_count": 9,
   "metadata": {},
   "outputs": [
    {
     "data": {
      "text/plain": [
       "54"
      ]
     },
     "execution_count": 9,
     "metadata": {},
     "output_type": "execute_result"
    }
   ],
   "source": [
    "aoc_2021_16_2('example2_2.txt')"
   ]
  },
  {
   "cell_type": "code",
   "execution_count": 10,
   "metadata": {},
   "outputs": [
    {
     "data": {
      "text/plain": [
       "7"
      ]
     },
     "execution_count": 10,
     "metadata": {},
     "output_type": "execute_result"
    }
   ],
   "source": [
    "aoc_2021_16_2('example2_3.txt')"
   ]
  },
  {
   "cell_type": "code",
   "execution_count": 11,
   "metadata": {},
   "outputs": [
    {
     "data": {
      "text/plain": [
       "9"
      ]
     },
     "execution_count": 11,
     "metadata": {},
     "output_type": "execute_result"
    }
   ],
   "source": [
    "aoc_2021_16_2('example2_4.txt')"
   ]
  },
  {
   "cell_type": "code",
   "execution_count": 12,
   "metadata": {},
   "outputs": [
    {
     "data": {
      "text/plain": [
       "1"
      ]
     },
     "execution_count": 12,
     "metadata": {},
     "output_type": "execute_result"
    }
   ],
   "source": [
    "aoc_2021_16_2('example2_5.txt')"
   ]
  },
  {
   "cell_type": "code",
   "execution_count": 13,
   "metadata": {},
   "outputs": [
    {
     "data": {
      "text/plain": [
       "0"
      ]
     },
     "execution_count": 13,
     "metadata": {},
     "output_type": "execute_result"
    }
   ],
   "source": [
    "aoc_2021_16_2('example2_6.txt')"
   ]
  },
  {
   "cell_type": "code",
   "execution_count": 14,
   "metadata": {},
   "outputs": [
    {
     "data": {
      "text/plain": [
       "0"
      ]
     },
     "execution_count": 14,
     "metadata": {},
     "output_type": "execute_result"
    }
   ],
   "source": [
    "aoc_2021_16_2('example2_7.txt')"
   ]
  },
  {
   "cell_type": "code",
   "execution_count": 15,
   "metadata": {},
   "outputs": [
    {
     "data": {
      "text/plain": [
       "1"
      ]
     },
     "execution_count": 15,
     "metadata": {},
     "output_type": "execute_result"
    }
   ],
   "source": [
    "aoc_2021_16_2('example2_8.txt')"
   ]
  },
  {
   "cell_type": "code",
   "execution_count": 16,
   "metadata": {},
   "outputs": [
    {
     "data": {
      "text/plain": [
       "12301926782560"
      ]
     },
     "execution_count": 16,
     "metadata": {},
     "output_type": "execute_result"
    }
   ],
   "source": [
    "aoc_2021_16_2('input.txt')"
   ]
  }
 ],
 "metadata": {
  "kernelspec": {
   "display_name": "Python 3",
   "language": "python",
   "name": "python3"
  },
  "language_info": {
   "codemirror_mode": {
    "name": "ipython",
    "version": 3
   },
   "file_extension": ".py",
   "mimetype": "text/x-python",
   "name": "python",
   "nbconvert_exporter": "python",
   "pygments_lexer": "ipython3",
   "version": "3.7.3"
  }
 },
 "nbformat": 4,
 "nbformat_minor": 2
}
