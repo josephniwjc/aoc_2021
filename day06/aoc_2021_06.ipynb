{
 "cells": [
  {
   "cell_type": "code",
   "execution_count": 1,
   "metadata": {},
   "outputs": [],
   "source": [
    "import os\n",
    "import numpy as np\n",
    "import collections"
   ]
  },
  {
   "cell_type": "code",
   "execution_count": 2,
   "metadata": {},
   "outputs": [],
   "source": [
    "def aoc_2021_06(file_path, tot_days):\n",
    "    \"\"\"--- Day 6: Lanternfish ---\"\"\"\n",
    "    \n",
    "    with open(file_path) as f:\n",
    "        aoc_read = f.read().split(',')\n",
    "    lanternfish_dict = dict(collections.Counter([int(i) for i in aoc_read]))\n",
    "\n",
    "    for days in range(tot_days):\n",
    "        \n",
    "        # lanternfish cycle\n",
    "        new_dict = collections.defaultdict(int)\n",
    "        for k, v in lanternfish_dict.items():\n",
    "            new_dict[k-1] = v\n",
    "        \n",
    "        # new fish\n",
    "        try:\n",
    "            new_dict[6] += new_dict[-1]\n",
    "            new_dict[8] += new_dict[-1]\n",
    "            del new_dict[-1]\n",
    "        except KeyError:\n",
    "            continue\n",
    "        \n",
    "        # update cycle\n",
    "        lanternfish_dict = dict(new_dict)\n",
    "\n",
    "    no_lanternfish = sum(lanternfish_dict.values())\n",
    "    \n",
    "    return no_lanternfish"
   ]
  },
  {
   "cell_type": "code",
   "execution_count": 3,
   "metadata": {},
   "outputs": [
    {
     "data": {
      "text/plain": [
       "5934"
      ]
     },
     "execution_count": 3,
     "metadata": {},
     "output_type": "execute_result"
    }
   ],
   "source": [
    "aoc_2021_06('example.txt', 80)"
   ]
  },
  {
   "cell_type": "code",
   "execution_count": 4,
   "metadata": {},
   "outputs": [
    {
     "data": {
      "text/plain": [
       "345387"
      ]
     },
     "execution_count": 4,
     "metadata": {},
     "output_type": "execute_result"
    }
   ],
   "source": [
    "aoc_2021_06('input.txt', 80)"
   ]
  },
  {
   "cell_type": "code",
   "execution_count": 5,
   "metadata": {},
   "outputs": [
    {
     "data": {
      "text/plain": [
       "26984457539"
      ]
     },
     "execution_count": 5,
     "metadata": {},
     "output_type": "execute_result"
    }
   ],
   "source": [
    "aoc_2021_06('example.txt', 256)"
   ]
  },
  {
   "cell_type": "code",
   "execution_count": 6,
   "metadata": {},
   "outputs": [
    {
     "data": {
      "text/plain": [
       "1574445493136"
      ]
     },
     "execution_count": 6,
     "metadata": {},
     "output_type": "execute_result"
    }
   ],
   "source": [
    "aoc_2021_06('input.txt', 256)"
   ]
  }
 ],
 "metadata": {
  "kernelspec": {
   "display_name": "Python 3",
   "language": "python",
   "name": "python3"
  },
  "language_info": {
   "codemirror_mode": {
    "name": "ipython",
    "version": 3
   },
   "file_extension": ".py",
   "mimetype": "text/x-python",
   "name": "python",
   "nbconvert_exporter": "python",
   "pygments_lexer": "ipython3",
   "version": "3.7.3"
  }
 },
 "nbformat": 4,
 "nbformat_minor": 2
}
