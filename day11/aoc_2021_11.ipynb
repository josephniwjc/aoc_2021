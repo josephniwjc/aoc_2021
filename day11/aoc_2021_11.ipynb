{
 "cells": [
  {
   "cell_type": "code",
   "execution_count": 1,
   "metadata": {},
   "outputs": [],
   "source": [
    "import os\n",
    "import numpy as np\n",
    "import copy\n",
    "import itertools"
   ]
  },
  {
   "cell_type": "code",
   "execution_count": 2,
   "metadata": {},
   "outputs": [],
   "source": [
    "def aoc_2021_11_1(file_path):\n",
    "    \"\"\"--- Day 11: Dumbo Octopus --- Part One\"\"\"\n",
    "    \n",
    "    with open(file_path) as f:\n",
    "        aoc_read = f.read().split('\\n')\n",
    "        \n",
    "    energy_array = np.vstack([np.array(list(l), dtype=int) for l in aoc_read])\n",
    "    no_row, no_col = np.shape(energy_array)\n",
    "    tot_flash = 0\n",
    "\n",
    "    for step in range(100):\n",
    "        energy_array += 1\n",
    "        temp_energy_array = copy.deepcopy(energy_array)\n",
    "        \n",
    "        # find flashing octopus\n",
    "        temp_idx_row = np.where(temp_energy_array > 9)[0]\n",
    "        temp_idx_col = np.where(temp_energy_array > 9)[1]\n",
    "        flash_idx = {(temp_idx_row[idx], temp_idx_col[idx]) for idx in range(len(temp_idx_row))}\n",
    "        new_flash_idx = copy.deepcopy(flash_idx)\n",
    "        \n",
    "        # stop until no octopus flashes\n",
    "        while len(new_flash_idx):\n",
    "            for i_row, i_col in new_flash_idx:\n",
    "                row_neighbors = [r for r in [i_row - 1, i_row, i_row + 1] if 0 <= r < no_row]\n",
    "                col_neighbors = [c for c in [i_col - 1, i_col, i_col + 1] if 0 <= c < no_col]\n",
    "                neighbors = list(itertools.product(row_neighbors, col_neighbors))\n",
    "                for n in neighbors:\n",
    "                    temp_energy_array[n] += 1\n",
    "\n",
    "            temp_idx_row = np.where(temp_energy_array > 9)[0]\n",
    "            temp_idx_col = np.where(temp_energy_array > 9)[1]\n",
    "            new_flash_idx = {(temp_idx_row[idx], temp_idx_col[idx]) for idx in range(len(temp_idx_row))} - flash_idx\n",
    "            flash_idx.update(new_flash_idx)\n",
    "        \n",
    "        # reset flashed octopus\n",
    "        for i_row, i_col in flash_idx:\n",
    "            temp_energy_array[i_row, i_col] = 0\n",
    "\n",
    "        energy_array = copy.deepcopy(temp_energy_array)\n",
    "        tot_flash += len(flash_idx)\n",
    "        \n",
    "    return tot_flash"
   ]
  },
  {
   "cell_type": "code",
   "execution_count": 3,
   "metadata": {},
   "outputs": [
    {
     "data": {
      "text/plain": [
       "1656"
      ]
     },
     "execution_count": 3,
     "metadata": {},
     "output_type": "execute_result"
    }
   ],
   "source": [
    "aoc_2021_11_1('example.txt')"
   ]
  },
  {
   "cell_type": "code",
   "execution_count": 4,
   "metadata": {},
   "outputs": [
    {
     "data": {
      "text/plain": [
       "1717"
      ]
     },
     "execution_count": 4,
     "metadata": {},
     "output_type": "execute_result"
    }
   ],
   "source": [
    "aoc_2021_11_1('input.txt')"
   ]
  },
  {
   "cell_type": "code",
   "execution_count": 5,
   "metadata": {},
   "outputs": [],
   "source": [
    "def aoc_2021_11_2(file_path):\n",
    "    \"\"\"--- Day 11: Dumbo Octopus --- Part Two\"\"\"\n",
    "    \n",
    "    with open(file_path) as f:\n",
    "        aoc_read = f.read().split('\\n')\n",
    "        \n",
    "    energy_array = np.vstack([np.array(list(l), dtype=int) for l in aoc_read])\n",
    "    no_row, no_col = np.shape(energy_array)\n",
    "    step = 0\n",
    "    \n",
    "    # stop until all octopus flashes\n",
    "    while sum(sum(energy_array)) != 0:\n",
    "        step += 1\n",
    "        energy_array += 1\n",
    "        temp_energy_array = copy.deepcopy(energy_array)\n",
    "        \n",
    "        # find flashing octopus\n",
    "        temp_idx_row = np.where(temp_energy_array > 9)[0]\n",
    "        temp_idx_col = np.where(temp_energy_array > 9)[1]\n",
    "        flash_idx = {(temp_idx_row[idx], temp_idx_col[idx]) for idx in range(len(temp_idx_row))}\n",
    "        new_flash_idx = copy.deepcopy(flash_idx)\n",
    "        \n",
    "        # stop until no octopus flashes\n",
    "        while len(new_flash_idx):\n",
    "            for i_row, i_col in new_flash_idx:\n",
    "                row_neighbors = [r for r in [i_row - 1, i_row, i_row + 1] if 0 <= r < no_row]\n",
    "                col_neighbors = [c for c in [i_col - 1, i_col, i_col + 1] if 0 <= c < no_col]\n",
    "                neighbors = list(itertools.product(row_neighbors, col_neighbors))\n",
    "                for n in neighbors:\n",
    "                    temp_energy_array[n] += 1\n",
    "\n",
    "            temp_idx_row = np.where(temp_energy_array > 9)[0]\n",
    "            temp_idx_col = np.where(temp_energy_array > 9)[1]\n",
    "            new_flash_idx = {(temp_idx_row[idx], temp_idx_col[idx]) for idx in range(len(temp_idx_row))} - flash_idx\n",
    "            flash_idx.update(new_flash_idx)\n",
    "        \n",
    "        # reset flashed octopus\n",
    "        for i_row, i_col in flash_idx:\n",
    "            temp_energy_array[i_row, i_col] = 0\n",
    "\n",
    "        energy_array = copy.deepcopy(temp_energy_array)\n",
    "        \n",
    "    return step"
   ]
  },
  {
   "cell_type": "code",
   "execution_count": 6,
   "metadata": {},
   "outputs": [
    {
     "data": {
      "text/plain": [
       "195"
      ]
     },
     "execution_count": 6,
     "metadata": {},
     "output_type": "execute_result"
    }
   ],
   "source": [
    "aoc_2021_11_2('example.txt')"
   ]
  },
  {
   "cell_type": "code",
   "execution_count": 7,
   "metadata": {},
   "outputs": [
    {
     "data": {
      "text/plain": [
       "476"
      ]
     },
     "execution_count": 7,
     "metadata": {},
     "output_type": "execute_result"
    }
   ],
   "source": [
    "aoc_2021_11_2('input.txt')"
   ]
  }
 ],
 "metadata": {
  "kernelspec": {
   "display_name": "Python 3",
   "language": "python",
   "name": "python3"
  },
  "language_info": {
   "codemirror_mode": {
    "name": "ipython",
    "version": 3
   },
   "file_extension": ".py",
   "mimetype": "text/x-python",
   "name": "python",
   "nbconvert_exporter": "python",
   "pygments_lexer": "ipython3",
   "version": "3.7.3"
  }
 },
 "nbformat": 4,
 "nbformat_minor": 2
}
