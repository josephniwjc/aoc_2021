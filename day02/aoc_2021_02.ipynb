{
 "cells": [
  {
   "cell_type": "code",
   "execution_count": 1,
   "metadata": {},
   "outputs": [],
   "source": [
    "import os\n",
    "import numpy as np"
   ]
  },
  {
   "cell_type": "code",
   "execution_count": 2,
   "metadata": {},
   "outputs": [],
   "source": [
    "def aoc_2021_02_1(file_path):\n",
    "    \"\"\"--- Day 2: Dive! --- Part One\"\"\"\n",
    "    \n",
    "    with open(file_path) as f:\n",
    "        aoc_read = f.read().split('\\n')\n",
    "        \n",
    "    course_list = [tuple(f.split(' ')) for f in aoc_read]\n",
    "    pos_array = np.zeros(2)\n",
    "    \n",
    "    # define direction\n",
    "    course_dict = {'forward': np.array([1, 0]), 'up': np.array([0, -1]), 'down': np.array([0, 1])}\n",
    "    \n",
    "    # course instructions\n",
    "    for course in course_list:\n",
    "        pos_array += course_dict[course[0]] * int(course[1])\n",
    "    \n",
    "    pos_prod = int(pos_array[0] * pos_array[1])\n",
    "    \n",
    "    return pos_prod"
   ]
  },
  {
   "cell_type": "code",
   "execution_count": 3,
   "metadata": {},
   "outputs": [
    {
     "data": {
      "text/plain": [
       "150"
      ]
     },
     "execution_count": 3,
     "metadata": {},
     "output_type": "execute_result"
    }
   ],
   "source": [
    "aoc_2021_02_1('example.txt')"
   ]
  },
  {
   "cell_type": "code",
   "execution_count": 4,
   "metadata": {},
   "outputs": [
    {
     "data": {
      "text/plain": [
       "1636725"
      ]
     },
     "execution_count": 4,
     "metadata": {},
     "output_type": "execute_result"
    }
   ],
   "source": [
    "aoc_2021_02_1('input.txt')"
   ]
  },
  {
   "cell_type": "code",
   "execution_count": 5,
   "metadata": {},
   "outputs": [],
   "source": [
    "def aoc_2021_02_2(file_path):\n",
    "    \"\"\"--- Day 2: Dive! --- Part Two\"\"\"\n",
    "    \n",
    "    with open(file_path) as f:\n",
    "        aoc_read = f.read().split('\\n')\n",
    "        \n",
    "    course_list = [tuple(f.split(' ')) for f in aoc_read]\n",
    "    aim = 0\n",
    "    pos_array = np.zeros(2)\n",
    "    \n",
    "    # course instructions\n",
    "    for course in course_list:\n",
    "        \n",
    "        # going forward\n",
    "        if course[0] == 'forward':\n",
    "            pos_array += np.array([1, aim]) * int(course[1])\n",
    "            \n",
    "        # adjust aim\n",
    "        elif course[0] == 'down':\n",
    "            aim += int(course[1])\n",
    "        elif course[0] == 'up':\n",
    "            aim -= int(course[1])   \n",
    "\n",
    "    pos_aim = int(pos_array[0] * pos_array[1])\n",
    "    \n",
    "    return pos_aim"
   ]
  },
  {
   "cell_type": "code",
   "execution_count": 6,
   "metadata": {},
   "outputs": [
    {
     "data": {
      "text/plain": [
       "900"
      ]
     },
     "execution_count": 6,
     "metadata": {},
     "output_type": "execute_result"
    }
   ],
   "source": [
    "aoc_2021_02_2('example.txt')"
   ]
  },
  {
   "cell_type": "code",
   "execution_count": 7,
   "metadata": {},
   "outputs": [
    {
     "data": {
      "text/plain": [
       "1872757425"
      ]
     },
     "execution_count": 7,
     "metadata": {},
     "output_type": "execute_result"
    }
   ],
   "source": [
    "aoc_2021_02_2('input.txt')"
   ]
  }
 ],
 "metadata": {
  "kernelspec": {
   "display_name": "Python 3",
   "language": "python",
   "name": "python3"
  },
  "language_info": {
   "codemirror_mode": {
    "name": "ipython",
    "version": 3
   },
   "file_extension": ".py",
   "mimetype": "text/x-python",
   "name": "python",
   "nbconvert_exporter": "python",
   "pygments_lexer": "ipython3",
   "version": "3.7.3"
  }
 },
 "nbformat": 4,
 "nbformat_minor": 2
}
