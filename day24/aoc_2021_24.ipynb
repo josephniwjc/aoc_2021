{
 "cells": [
  {
   "cell_type": "code",
   "execution_count": 1,
   "metadata": {},
   "outputs": [],
   "source": [
    "import os"
   ]
  },
  {
   "cell_type": "code",
   "execution_count": 2,
   "metadata": {},
   "outputs": [],
   "source": [
    "def aoc_2021_24_1(file_path):\n",
    "    \"\"\"--- Day 24: Arithmetic Logic Unit --- Part One\"\"\"\n",
    "    \n",
    "    with open(file_path) as f:\n",
    "        aoc_read = f.read()\n",
    "    input_instruction_list = [f.split('\\n') for f in aoc_read.lstrip('inp w\\n').split('\\ninp w\\n')]\n",
    "\n",
    "    pair_bit_list = []\n",
    "    pair_bit_dict = {}\n",
    "\n",
    "    # find all paired bits\n",
    "    for i_instruction, instruction_list in enumerate(input_instruction_list):\n",
    "        if instruction_list[3] == 'div z 1':\n",
    "            pair_bit_list.append((i_instruction, int(instruction_list[-3].split(' ')[-1])))\n",
    "        elif instruction_list[3] == 'div z 26':\n",
    "            last_pair = pair_bit_list.pop()\n",
    "            pair_bit_dict[last_pair[0]] = (i_instruction, last_pair[1] + int(instruction_list[4].split(' ')[-1]))\n",
    "        else:\n",
    "            raise ValueError\n",
    "\n",
    "    # find largest 14 digit number\n",
    "    largest_bit_list = ['' for _ in range(len(input_instruction_list))]\n",
    "    for bit, (pair, diff) in pair_bit_dict.items():\n",
    "        if diff > 0:\n",
    "            largest_bit_list[bit] = str(9 - diff)\n",
    "            largest_bit_list[pair] = str(9)\n",
    "        else:\n",
    "            largest_bit_list[bit] = str(9)\n",
    "            largest_bit_list[pair] = str(9 + diff)  \n",
    "    largest_monad = int(''.join(largest_bit_list))\n",
    "\n",
    "    return largest_monad"
   ]
  },
  {
   "cell_type": "code",
   "execution_count": 3,
   "metadata": {},
   "outputs": [
    {
     "data": {
      "text/plain": [
       "99298993199873"
      ]
     },
     "execution_count": 3,
     "metadata": {},
     "output_type": "execute_result"
    }
   ],
   "source": [
    "aoc_2021_24_1('input.txt')"
   ]
  },
  {
   "cell_type": "code",
   "execution_count": 4,
   "metadata": {},
   "outputs": [],
   "source": [
    "def aoc_2021_24_2(file_path):\n",
    "    \"\"\"--- Day 24: Arithmetic Logic Unit --- Part Two\"\"\"\n",
    "    \n",
    "    with open(file_path) as f:\n",
    "        aoc_read = f.read()\n",
    "    input_instruction_list = [f.split('\\n') for f in aoc_read.lstrip('inp w\\n').split('\\ninp w\\n')]\n",
    "\n",
    "    pair_bit_list = []\n",
    "    pair_bit_dict = {}\n",
    "\n",
    "    # find all paired bits\n",
    "    for i_instruction, instruction_list in enumerate(input_instruction_list):\n",
    "        if instruction_list[3] == 'div z 1':\n",
    "            pair_bit_list.append((i_instruction, int(instruction_list[-3].split(' ')[-1])))\n",
    "        elif instruction_list[3] == 'div z 26':\n",
    "            last_pair = pair_bit_list.pop()\n",
    "            pair_bit_dict[last_pair[0]] = (i_instruction, last_pair[1] + int(instruction_list[4].split(' ')[-1]))\n",
    "        else:\n",
    "            raise ValueError\n",
    "\n",
    "    # find smallest 14 digit number\n",
    "    smallest_bit_list = ['' for _ in range(len(input_instruction_list))]\n",
    "    for bit, (pair, diff) in pair_bit_dict.items():\n",
    "        if diff > 0:\n",
    "            smallest_bit_list[bit] = str(1)\n",
    "            smallest_bit_list[pair] = str(1 + diff)\n",
    "        else:\n",
    "            smallest_bit_list[bit] = str(1 - diff)\n",
    "            smallest_bit_list[pair] = str(1)   \n",
    "    smallest_monad = int(''.join(smallest_bit_list))\n",
    "\n",
    "    return smallest_monad"
   ]
  },
  {
   "cell_type": "code",
   "execution_count": 5,
   "metadata": {},
   "outputs": [
    {
     "data": {
      "text/plain": [
       "73181221197111"
      ]
     },
     "execution_count": 5,
     "metadata": {},
     "output_type": "execute_result"
    }
   ],
   "source": [
    "aoc_2021_24_2('input.txt')"
   ]
  }
 ],
 "metadata": {
  "kernelspec": {
   "display_name": "Python 3 (ipykernel)",
   "language": "python",
   "name": "python3"
  },
  "language_info": {
   "codemirror_mode": {
    "name": "ipython",
    "version": 3
   },
   "file_extension": ".py",
   "mimetype": "text/x-python",
   "name": "python",
   "nbconvert_exporter": "python",
   "pygments_lexer": "ipython3",
   "version": "3.7.10"
  }
 },
 "nbformat": 4,
 "nbformat_minor": 2
}
