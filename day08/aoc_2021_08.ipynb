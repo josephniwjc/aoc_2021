{
 "cells": [
  {
   "cell_type": "code",
   "execution_count": 1,
   "metadata": {},
   "outputs": [],
   "source": [
    "import os\n",
    "import collections"
   ]
  },
  {
   "cell_type": "code",
   "execution_count": 2,
   "metadata": {},
   "outputs": [],
   "source": [
    "def aoc_2021_08_1(file_path):\n",
    "    \"\"\"--- Day 8: Seven Segment Search --- Part One\"\"\"\n",
    "\n",
    "    with open(file_path) as f:\n",
    "        aoc_read = f.read().split('\\n')\n",
    "    signal_list = [([''.join(sorted(s)) for s in f.split(' | ')[0].split(' ')], [''.join(sorted(s)) for s in f.split(' | ')[1].split(' ')]) for f in aoc_read]\n",
    "    \n",
    "    # length of each unique digit\n",
    "    segment_len_dict = {2: 1, 4: 4, 3: 7, 7: 8}\n",
    "\n",
    "    no_output = 0\n",
    "    for signal in signal_list:\n",
    "        unique_signals = [s for s in signal[0] if len(s) in segment_len_dict]\n",
    "        no_output += len([s for s in signal[1] if s in unique_signals])\n",
    "\n",
    "    return no_output"
   ]
  },
  {
   "cell_type": "code",
   "execution_count": 3,
   "metadata": {},
   "outputs": [
    {
     "data": {
      "text/plain": [
       "26"
      ]
     },
     "execution_count": 3,
     "metadata": {},
     "output_type": "execute_result"
    }
   ],
   "source": [
    "aoc_2021_08_1('example.txt')"
   ]
  },
  {
   "cell_type": "code",
   "execution_count": 4,
   "metadata": {},
   "outputs": [
    {
     "data": {
      "text/plain": [
       "514"
      ]
     },
     "execution_count": 4,
     "metadata": {},
     "output_type": "execute_result"
    }
   ],
   "source": [
    "aoc_2021_08_1('input.txt')"
   ]
  },
  {
   "cell_type": "code",
   "execution_count": 5,
   "metadata": {},
   "outputs": [],
   "source": [
    "def aoc_2021_08_2(file_path):\n",
    "    \"\"\"--- Day 8: Seven Segment Search --- Part Two\"\"\"\n",
    "    \n",
    "    with open(file_path) as f:\n",
    "        aoc_read = f.read().split('\\n')\n",
    "    signal_list = [([''.join(sorted(s)) for s in f.split(' | ')[0].split(' ')], [''.join(sorted(s)) for s in f.split(' | ')[1].split(' ')]) for f in aoc_read]\n",
    "    \n",
    "    # length of each unique digit\n",
    "    segment_len_dict = {2: 1, 4: 4, 3: 7, 7: 8}\n",
    "    \n",
    "    # composition of each digit\n",
    "    segment_number_dict = {'abcefg': 0,\n",
    "                           'cf': 1,\n",
    "                           'acdeg': 2,\n",
    "                           'acdfg': 3,\n",
    "                           'bcdf': 4,\n",
    "                           'abdfg': 5,\n",
    "                           'abdefg': 6,\n",
    "                           'acf': 7,\n",
    "                           'abcdefg': 8,\n",
    "                           'abcdfg': 9}\n",
    "    \n",
    "    # length of each digit\n",
    "    letter_occurence = collections.defaultdict(int)\n",
    "    for s in segment_number_dict:\n",
    "        for l in s:\n",
    "            letter_occurence[l] += 1\n",
    "\n",
    "    letter_occurence = dict(letter_occurence)\n",
    "    no_output_sum = 0\n",
    "\n",
    "    for signal in signal_list:\n",
    "        \n",
    "        # for all digits with unique lengths\n",
    "        letter_replacement = {}\n",
    "        unique_signals = [s for s in signal[0] if len(s) in segment_len_dict]\n",
    "        unique_signal_number = {segment_len_dict[len(u)]: u for u in unique_signals}\n",
    "\n",
    "        # letter occurence in this list\n",
    "        temp_letter_occurence = dict(collections.Counter(''.join(signal[0])))\n",
    "\n",
    "        # a\n",
    "        letter_replacement[list(set(unique_signal_number[7]) - set(unique_signal_number[1]))[0]] = 'a'\n",
    "\n",
    "        # cf\n",
    "        cf = sorted(unique_signal_number[1])\n",
    "        if (temp_letter_occurence[cf[0]], temp_letter_occurence[cf[1]]) == (letter_occurence['c'], letter_occurence['f']):\n",
    "            letter_replacement[cf[0]] = 'c'\n",
    "            letter_replacement[cf[1]] = 'f'\n",
    "        elif (temp_letter_occurence[cf[1]], temp_letter_occurence[cf[0]]) == (letter_occurence['c'], letter_occurence['f']):\n",
    "            letter_replacement[cf[1]] = 'c'\n",
    "            letter_replacement[cf[0]] = 'f'\n",
    "        else:\n",
    "            raise ValueError\n",
    "\n",
    "        # bd\n",
    "        bd = sorted(set(unique_signal_number[4]) - set(unique_signal_number[1]))\n",
    "        if (temp_letter_occurence[bd[0]], temp_letter_occurence[bd[1]]) == (letter_occurence['b'], letter_occurence['d']):\n",
    "            letter_replacement[bd[0]] = 'b'\n",
    "            letter_replacement[bd[1]] = 'd'\n",
    "        elif (temp_letter_occurence[bd[1]], temp_letter_occurence[bd[0]]) == (letter_occurence['b'], letter_occurence['d']):\n",
    "            letter_replacement[bd[1]] = 'b'\n",
    "            letter_replacement[bd[0]] = 'd'\n",
    "        else:\n",
    "            raise ValueError\n",
    "\n",
    "        # eg\n",
    "        eg = sorted(set(unique_signal_number[8]) - set(unique_signal_number[4]) - set(unique_signal_number[7]))\n",
    "        if (temp_letter_occurence[eg[0]], temp_letter_occurence[eg[1]]) == (letter_occurence['e'], letter_occurence['g']):\n",
    "            letter_replacement[eg[0]] = 'e'\n",
    "            letter_replacement[eg[1]] = 'g'\n",
    "        elif (temp_letter_occurence[eg[1]], temp_letter_occurence[eg[0]]) == (letter_occurence['e'], letter_occurence['g']):\n",
    "            letter_replacement[eg[1]] = 'e'\n",
    "            letter_replacement[eg[0]] = 'g'\n",
    "        else:\n",
    "            raise ValueError\n",
    "\n",
    "        # compute output\n",
    "        output_list = []\n",
    "        for letter in signal[1]:\n",
    "            output_list.append(str(segment_number_dict[''.join(sorted([letter_replacement[s] for s in letter]))]))\n",
    "\n",
    "        output_digit = int(''.join(output_list))\n",
    "        no_output_sum += output_digit\n",
    "        \n",
    "    return no_output_sum"
   ]
  },
  {
   "cell_type": "code",
   "execution_count": 6,
   "metadata": {},
   "outputs": [
    {
     "data": {
      "text/plain": [
       "61229"
      ]
     },
     "execution_count": 6,
     "metadata": {},
     "output_type": "execute_result"
    }
   ],
   "source": [
    "aoc_2021_08_2('example.txt')"
   ]
  },
  {
   "cell_type": "code",
   "execution_count": 7,
   "metadata": {},
   "outputs": [
    {
     "data": {
      "text/plain": [
       "1012272"
      ]
     },
     "execution_count": 7,
     "metadata": {},
     "output_type": "execute_result"
    }
   ],
   "source": [
    "aoc_2021_08_2('input.txt')"
   ]
  }
 ],
 "metadata": {
  "kernelspec": {
   "display_name": "Python 3",
   "language": "python",
   "name": "python3"
  },
  "language_info": {
   "codemirror_mode": {
    "name": "ipython",
    "version": 3
   },
   "file_extension": ".py",
   "mimetype": "text/x-python",
   "name": "python",
   "nbconvert_exporter": "python",
   "pygments_lexer": "ipython3",
   "version": "3.7.3"
  }
 },
 "nbformat": 4,
 "nbformat_minor": 2
}
