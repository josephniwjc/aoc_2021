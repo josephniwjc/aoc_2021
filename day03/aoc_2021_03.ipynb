{
 "cells": [
  {
   "cell_type": "code",
   "execution_count": 1,
   "metadata": {},
   "outputs": [],
   "source": [
    "import os\n",
    "import copy"
   ]
  },
  {
   "cell_type": "code",
   "execution_count": 2,
   "metadata": {},
   "outputs": [],
   "source": [
    "def aoc_2021_03_1(file_path):\n",
    "    \"\"\"--- Day 3: Binary Diagnostic --- Part One\"\"\"\n",
    "    \n",
    "    with open(file_path) as f:\n",
    "        aoc_read = f.read().split('\\n')\n",
    "    \n",
    "    bit_len = len(aoc_read[0])\n",
    "    gamma_list = []\n",
    "    epsilon_list = []\n",
    "    \n",
    "    for bit in range(bit_len):\n",
    "        current_bits = [a[bit] for a in aoc_read]\n",
    "        count_0 = current_bits.count('0')\n",
    "        count_1 = current_bits.count('1')\n",
    "        \n",
    "        # more common bits\n",
    "        if count_0 > count_1:\n",
    "            gamma_list.append('0')\n",
    "            epsilon_list.append('1')\n",
    "        elif count_0 < count_1:\n",
    "            gamma_list.append('1')\n",
    "            epsilon_list.append('0')\n",
    "        else:\n",
    "            raise ValueError\n",
    "    \n",
    "    gamma = int(''.join(gamma_list), 2)\n",
    "    epsilon = int(''.join(epsilon_list), 2)\n",
    "    consumption = gamma * epsilon\n",
    "    \n",
    "    return consumption"
   ]
  },
  {
   "cell_type": "code",
   "execution_count": 3,
   "metadata": {},
   "outputs": [
    {
     "data": {
      "text/plain": [
       "198"
      ]
     },
     "execution_count": 3,
     "metadata": {},
     "output_type": "execute_result"
    }
   ],
   "source": [
    "aoc_2021_03_1('example.txt')"
   ]
  },
  {
   "cell_type": "code",
   "execution_count": 4,
   "metadata": {},
   "outputs": [
    {
     "data": {
      "text/plain": [
       "852500"
      ]
     },
     "execution_count": 4,
     "metadata": {},
     "output_type": "execute_result"
    }
   ],
   "source": [
    "aoc_2021_03_1('input.txt')"
   ]
  },
  {
   "cell_type": "code",
   "execution_count": 5,
   "metadata": {},
   "outputs": [],
   "source": [
    "def aoc_2021_03_2(file_path):\n",
    "    \"\"\"--- Day 3: Binary Diagnostic --- Part Two\"\"\"\n",
    "    \n",
    "    with open(file_path) as f:\n",
    "        aoc_read = f.read().split('\\n')\n",
    "        \n",
    "    bit_len = len(aoc_read[0])\n",
    "\n",
    "    o2_list = copy.deepcopy(aoc_read)\n",
    "    for bit in range(bit_len):\n",
    "\n",
    "        if len(o2_list) == 1:\n",
    "            break\n",
    "\n",
    "        current_bits = [a[bit] for a in o2_list]\n",
    "        count_0 = current_bits.count('0')\n",
    "        count_1 = current_bits.count('1')\n",
    "        \n",
    "        # keep more common bits\n",
    "        if count_0 > count_1:\n",
    "            o2_list = [o for o in o2_list if o[bit] == '0']\n",
    "        else:\n",
    "            o2_list = [o for o in o2_list if o[bit] == '1']\n",
    "\n",
    "    co2_list = copy.deepcopy(aoc_read)\n",
    "    for bit in range(bit_len):\n",
    "\n",
    "        if len(co2_list) == 1:\n",
    "            break\n",
    "\n",
    "        current_bits = [a[bit] for a in co2_list]\n",
    "        count_0 = current_bits.count('0')\n",
    "        count_1 = current_bits.count('1')\n",
    "        \n",
    "        # keep less common bits\n",
    "        if count_0 > count_1:\n",
    "            co2_list = [c for c in co2_list if c[bit] == '1']\n",
    "        else:\n",
    "            co2_list = [c for c in co2_list if c[bit] == '0']\n",
    "\n",
    "    o2 = int(''.join(o2_list), 2)\n",
    "    co2 = int(''.join(co2_list), 2)\n",
    "    life = o2 * co2\n",
    "    \n",
    "    return life"
   ]
  },
  {
   "cell_type": "code",
   "execution_count": 6,
   "metadata": {},
   "outputs": [
    {
     "data": {
      "text/plain": [
       "230"
      ]
     },
     "execution_count": 6,
     "metadata": {},
     "output_type": "execute_result"
    }
   ],
   "source": [
    "aoc_2021_03_2('example.txt')"
   ]
  },
  {
   "cell_type": "code",
   "execution_count": 7,
   "metadata": {},
   "outputs": [
    {
     "data": {
      "text/plain": [
       "1007985"
      ]
     },
     "execution_count": 7,
     "metadata": {},
     "output_type": "execute_result"
    }
   ],
   "source": [
    "aoc_2021_03_2('input.txt')"
   ]
  }
 ],
 "metadata": {
  "kernelspec": {
   "display_name": "Python 3",
   "language": "python",
   "name": "python3"
  },
  "language_info": {
   "codemirror_mode": {
    "name": "ipython",
    "version": 3
   },
   "file_extension": ".py",
   "mimetype": "text/x-python",
   "name": "python",
   "nbconvert_exporter": "python",
   "pygments_lexer": "ipython3",
   "version": "3.7.3"
  }
 },
 "nbformat": 4,
 "nbformat_minor": 2
}
