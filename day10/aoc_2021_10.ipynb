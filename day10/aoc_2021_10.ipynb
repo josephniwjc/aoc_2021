{
 "cells": [
  {
   "cell_type": "code",
   "execution_count": 1,
   "metadata": {},
   "outputs": [],
   "source": [
    "import os\n",
    "import copy\n",
    "import numpy as np\n",
    "import collections"
   ]
  },
  {
   "cell_type": "code",
   "execution_count": 2,
   "metadata": {},
   "outputs": [],
   "source": [
    "def aoc_2021_10_1(file_path):\n",
    "    \"\"\"--- Day 10: Syntax Scoring --- Part One\"\"\"\n",
    "\n",
    "    with open(file_path) as f:\n",
    "        aoc_read = f.read().split('\\n')\n",
    "\n",
    "    open_chunk = ['(', '[', '{', '<']\n",
    "    close_chunk = [')', ']', '}', '>']\n",
    "    chunk_set = {'()', '[]', '{}', '<>'}\n",
    "\n",
    "    illegal_score = {')': 3, ']': 57, '}': 1197, '>': 25137}\n",
    "    illegal_list = []\n",
    "\n",
    "    for line in aoc_read:\n",
    "        temp_line = copy.deepcopy(line)\n",
    "        len_previous = 0\n",
    "        len_new = len(temp_line)\n",
    "        \n",
    "        # keep removing allowed chunks\n",
    "        while len_previous != len_new:\n",
    "            len_previous = copy.deepcopy(len_new)\n",
    "            for chunk in chunk_set:\n",
    "                temp_line = temp_line.replace(chunk, '')\n",
    "            len_new = len(temp_line)\n",
    "        \n",
    "        # check if illegal\n",
    "        close_char = [c for c in temp_line if c in close_chunk]\n",
    "        if close_char:\n",
    "            illegal_list.append(close_char[0])\n",
    "\n",
    "    syntax_error = sum([v * illegal_score[k] for k, v in collections.Counter(illegal_list).items()])\n",
    "    \n",
    "    return syntax_error"
   ]
  },
  {
   "cell_type": "code",
   "execution_count": 3,
   "metadata": {},
   "outputs": [
    {
     "data": {
      "text/plain": [
       "26397"
      ]
     },
     "execution_count": 3,
     "metadata": {},
     "output_type": "execute_result"
    }
   ],
   "source": [
    "aoc_2021_10_1('example.txt')"
   ]
  },
  {
   "cell_type": "code",
   "execution_count": 4,
   "metadata": {},
   "outputs": [
    {
     "data": {
      "text/plain": [
       "392421"
      ]
     },
     "execution_count": 4,
     "metadata": {},
     "output_type": "execute_result"
    }
   ],
   "source": [
    "aoc_2021_10_1('input.txt')"
   ]
  },
  {
   "cell_type": "code",
   "execution_count": 5,
   "metadata": {},
   "outputs": [],
   "source": [
    "def aoc_2021_10_2(file_path):\n",
    "    \"\"\"--- Day 10: Syntax Scoring --- Part Two\"\"\"\n",
    "\n",
    "    with open(file_path) as f:\n",
    "        aoc_read = f.read().split('\\n')\n",
    "\n",
    "    open_chunk = ['(', '[', '{', '<']\n",
    "    close_chunk = [')', ']', '}', '>']\n",
    "    chunk_set = {'()', '[]', '{}', '<>'}\n",
    "\n",
    "    illegal_score = {')': 1, ']': 2, '}': 3, '>': 4}\n",
    "    incomplete_list = []\n",
    "\n",
    "    for line in aoc_read:\n",
    "        temp_line = copy.deepcopy(line)\n",
    "        len_previous = 0\n",
    "        len_new = len(temp_line)\n",
    "        \n",
    "        # keep removing allowed chunks\n",
    "        while len_previous != len_new:\n",
    "            len_previous = copy.deepcopy(len_new)\n",
    "            for chunk in chunk_set:\n",
    "                temp_line = temp_line.replace(chunk, '')\n",
    "            len_new = len(temp_line)\n",
    "\n",
    "        open_char = [c for c in temp_line if c in open_chunk]\n",
    "        close_char = [c for c in temp_line if c in close_chunk]\n",
    "        \n",
    "        # check if incomplete\n",
    "        if open_char and not close_char:\n",
    "            temp_score = 0\n",
    "            for close_sequence in temp_line[::-1]:\n",
    "                temp_score *= 5\n",
    "                temp_score += illegal_score[close_chunk[open_chunk.index(close_sequence)]]       \n",
    "            incomplete_list.append(temp_score)\n",
    "\n",
    "    middle_score = int(np.median(incomplete_list))\n",
    "        \n",
    "    return middle_score"
   ]
  },
  {
   "cell_type": "code",
   "execution_count": 6,
   "metadata": {},
   "outputs": [
    {
     "data": {
      "text/plain": [
       "288957"
      ]
     },
     "execution_count": 6,
     "metadata": {},
     "output_type": "execute_result"
    }
   ],
   "source": [
    "aoc_2021_10_2('example.txt')"
   ]
  },
  {
   "cell_type": "code",
   "execution_count": 7,
   "metadata": {},
   "outputs": [
    {
     "data": {
      "text/plain": [
       "2769449099"
      ]
     },
     "execution_count": 7,
     "metadata": {},
     "output_type": "execute_result"
    }
   ],
   "source": [
    "aoc_2021_10_2('input.txt')"
   ]
  }
 ],
 "metadata": {
  "kernelspec": {
   "display_name": "Python 3",
   "language": "python",
   "name": "python3"
  },
  "language_info": {
   "codemirror_mode": {
    "name": "ipython",
    "version": 3
   },
   "file_extension": ".py",
   "mimetype": "text/x-python",
   "name": "python",
   "nbconvert_exporter": "python",
   "pygments_lexer": "ipython3",
   "version": "3.7.3"
  }
 },
 "nbformat": 4,
 "nbformat_minor": 2
}
