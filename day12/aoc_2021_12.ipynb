{
 "cells": [
  {
   "cell_type": "code",
   "execution_count": 1,
   "metadata": {},
   "outputs": [],
   "source": [
    "import os\n",
    "import collections\n",
    "import networkx as nx"
   ]
  },
  {
   "cell_type": "code",
   "execution_count": 2,
   "metadata": {},
   "outputs": [],
   "source": [
    "def aoc_2021_12_1(file_path):\n",
    "    \"\"\"--- Day 12: Passage Pathing --- Part One\"\"\"\n",
    "    \n",
    "    with open(file_path) as f:\n",
    "        aoc_read = f.read().split('\\n')\n",
    "    \n",
    "    # cave graph\n",
    "    cave_graph = nx.Graph()\n",
    "    for line in aoc_read:\n",
    "        temp_start, temp_end = line.split('-')\n",
    "        cave_graph.add_edge(temp_start, temp_end)\n",
    "    \n",
    "    # all small caves\n",
    "    small_caves = [n for n in cave_graph.nodes if n.lower() == n and n not in ['start', 'end']]\n",
    "    \n",
    "    cave_set = set()\n",
    "    def dfs_tree_once(previous_node, cave_path): \n",
    "\n",
    "        for edge in cave_graph.edges(previous_node):\n",
    "            next_node = edge[1]\n",
    "\n",
    "            if next_node == 'start':\n",
    "                continue\n",
    "            elif next_node == 'end':\n",
    "                cave_set.add(tuple(list(cave_path) + [next_node]))\n",
    "                continue\n",
    "                \n",
    "            # skip if small cave already visited\n",
    "            elif next_node in small_caves:\n",
    "                if next_node in cave_path:\n",
    "                    continue\n",
    "\n",
    "            # dfs\n",
    "            dfs_tree_once(next_node, tuple(list(cave_path) + [next_node]))\n",
    "\n",
    "    dfs_tree_once('start', ('start', ))\n",
    "    no_paths = len(cave_set)\n",
    "    \n",
    "    return no_paths"
   ]
  },
  {
   "cell_type": "code",
   "execution_count": 3,
   "metadata": {},
   "outputs": [
    {
     "data": {
      "text/plain": [
       "10"
      ]
     },
     "execution_count": 3,
     "metadata": {},
     "output_type": "execute_result"
    }
   ],
   "source": [
    "aoc_2021_12_1('example1.txt')"
   ]
  },
  {
   "cell_type": "code",
   "execution_count": 4,
   "metadata": {
    "scrolled": true
   },
   "outputs": [
    {
     "data": {
      "text/plain": [
       "19"
      ]
     },
     "execution_count": 4,
     "metadata": {},
     "output_type": "execute_result"
    }
   ],
   "source": [
    "aoc_2021_12_1('example2.txt')"
   ]
  },
  {
   "cell_type": "code",
   "execution_count": 5,
   "metadata": {},
   "outputs": [
    {
     "data": {
      "text/plain": [
       "226"
      ]
     },
     "execution_count": 5,
     "metadata": {},
     "output_type": "execute_result"
    }
   ],
   "source": [
    "aoc_2021_12_1('example3.txt')"
   ]
  },
  {
   "cell_type": "code",
   "execution_count": 6,
   "metadata": {},
   "outputs": [
    {
     "data": {
      "text/plain": [
       "4241"
      ]
     },
     "execution_count": 6,
     "metadata": {},
     "output_type": "execute_result"
    }
   ],
   "source": [
    "aoc_2021_12_1('input.txt')"
   ]
  },
  {
   "cell_type": "code",
   "execution_count": 7,
   "metadata": {},
   "outputs": [],
   "source": [
    "def aoc_2021_12_2(file_path):\n",
    "    \"\"\"--- Day 12: Passage Pathing --- Part Two\"\"\"\n",
    "    \n",
    "    with open(file_path) as f:\n",
    "        aoc_read = f.read().split('\\n')\n",
    "    \n",
    "    # cave graph\n",
    "    cave_graph = nx.Graph()\n",
    "    for line in aoc_read:\n",
    "        temp_start, temp_end = line.split('-')\n",
    "        cave_graph.add_edge(temp_start, temp_end)\n",
    "    \n",
    "    # all small caves\n",
    "    small_caves = [n for n in cave_graph.nodes if n.lower() == n and n not in ['start', 'end']]\n",
    "    \n",
    "    cave_set = set()\n",
    "    def dfs_tree_twice(previous_node, cave_path): \n",
    "\n",
    "        for edge in cave_graph.edges(previous_node):\n",
    "            next_node = edge[1]\n",
    "\n",
    "            if next_node == 'start':\n",
    "                continue\n",
    "            elif next_node == 'end':\n",
    "                cave_set.add(tuple(list(cave_path) + [next_node]))\n",
    "                continue\n",
    "                \n",
    "            # skip if more than one small cave visited twice\n",
    "            elif next_node in small_caves:\n",
    "                cave_counter = {k: v for k, v in collections.Counter(cave_path).items() if k in small_caves}\n",
    "                if 2 in cave_counter.values() and next_node in cave_counter:\n",
    "                    continue\n",
    "\n",
    "            # dfs\n",
    "            dfs_tree_twice(next_node, tuple(list(cave_path) + [next_node]))\n",
    "\n",
    "    dfs_tree_twice('start', ('start', ))\n",
    "    no_paths = len(cave_set)\n",
    "    \n",
    "    return no_paths"
   ]
  },
  {
   "cell_type": "code",
   "execution_count": 8,
   "metadata": {},
   "outputs": [
    {
     "data": {
      "text/plain": [
       "36"
      ]
     },
     "execution_count": 8,
     "metadata": {},
     "output_type": "execute_result"
    }
   ],
   "source": [
    "aoc_2021_12_2('example1.txt')"
   ]
  },
  {
   "cell_type": "code",
   "execution_count": 9,
   "metadata": {},
   "outputs": [
    {
     "data": {
      "text/plain": [
       "103"
      ]
     },
     "execution_count": 9,
     "metadata": {},
     "output_type": "execute_result"
    }
   ],
   "source": [
    "aoc_2021_12_2('example2.txt')"
   ]
  },
  {
   "cell_type": "code",
   "execution_count": 10,
   "metadata": {},
   "outputs": [
    {
     "data": {
      "text/plain": [
       "3509"
      ]
     },
     "execution_count": 10,
     "metadata": {},
     "output_type": "execute_result"
    }
   ],
   "source": [
    "aoc_2021_12_2('example3.txt')"
   ]
  },
  {
   "cell_type": "code",
   "execution_count": 11,
   "metadata": {},
   "outputs": [
    {
     "data": {
      "text/plain": [
       "122134"
      ]
     },
     "execution_count": 11,
     "metadata": {},
     "output_type": "execute_result"
    }
   ],
   "source": [
    "aoc_2021_12_2('input.txt')"
   ]
  }
 ],
 "metadata": {
  "kernelspec": {
   "display_name": "Python 3",
   "language": "python",
   "name": "python3"
  },
  "language_info": {
   "codemirror_mode": {
    "name": "ipython",
    "version": 3
   },
   "file_extension": ".py",
   "mimetype": "text/x-python",
   "name": "python",
   "nbconvert_exporter": "python",
   "pygments_lexer": "ipython3",
   "version": "3.7.3"
  }
 },
 "nbformat": 4,
 "nbformat_minor": 2
}
