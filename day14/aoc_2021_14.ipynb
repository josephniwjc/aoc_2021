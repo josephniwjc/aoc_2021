{
 "cells": [
  {
   "cell_type": "code",
   "execution_count": 1,
   "metadata": {},
   "outputs": [],
   "source": [
    "import os\n",
    "import copy\n",
    "import collections"
   ]
  },
  {
   "cell_type": "code",
   "execution_count": 2,
   "metadata": {},
   "outputs": [],
   "source": [
    "def aoc_2021_14(file_path, no_steps):\n",
    "    \"\"\"--- Day 14: Extended Polymerization ---\"\"\"\n",
    "    \n",
    "    with open(file_path) as f:\n",
    "        aoc_read = f.read().split('\\n\\n')\n",
    "    polymer_template = aoc_read[0]\n",
    "    \n",
    "    # reaction rules\n",
    "    reaction_dict = {}\n",
    "    for s in aoc_read[1].split('\\n'):\n",
    "        temp_polymer, temp_product = s.split(' -> ')\n",
    "        reaction_dict[temp_polymer] = (temp_polymer[0] + temp_product, temp_product + temp_polymer[1])\n",
    "    \n",
    "    # count number of monomers\n",
    "    monomer_count_dict = collections.defaultdict(int)\n",
    "    for i_template in range(len(polymer_template) - 1):\n",
    "        monomer_count_dict[polymer_template[i_template] + polymer_template[i_template + 1]] += 1\n",
    "    monomer_count_dict = dict(monomer_count_dict)\n",
    "    \n",
    "    # for each reaction step\n",
    "    for steps in range(no_steps):\n",
    "        new_monomer_dict = collections.defaultdict(int)\n",
    "        \n",
    "        # count new monomers\n",
    "        for k, v in monomer_count_dict.items():\n",
    "            new_monomer_dict[reaction_dict[k][0]] += v\n",
    "            new_monomer_dict[reaction_dict[k][1]] += v\n",
    "        monomer_count_dict = copy.deepcopy(dict(new_monomer_dict))\n",
    "    \n",
    "    # count all elements in polymer\n",
    "    polymer_counter = collections.defaultdict(int)\n",
    "    polymer_counter[polymer_template[0]] += 1\n",
    "    polymer_counter[polymer_template[-1]] += 1\n",
    "    for monomer, count in monomer_count_dict.items():\n",
    "        polymer_counter[monomer[0]] += count\n",
    "        polymer_counter[monomer[1]] += count\n",
    "    polymer_counter = {k: int(v/2) for k, v in polymer_counter.items()}\n",
    "    subtract_elements = max(polymer_counter.values()) - min(polymer_counter.values())\n",
    "    \n",
    "    return subtract_elements"
   ]
  },
  {
   "cell_type": "code",
   "execution_count": 3,
   "metadata": {},
   "outputs": [
    {
     "data": {
      "text/plain": [
       "1588"
      ]
     },
     "execution_count": 3,
     "metadata": {},
     "output_type": "execute_result"
    }
   ],
   "source": [
    "aoc_2021_14('example.txt', 10)"
   ]
  },
  {
   "cell_type": "code",
   "execution_count": 4,
   "metadata": {},
   "outputs": [
    {
     "data": {
      "text/plain": [
       "3095"
      ]
     },
     "execution_count": 4,
     "metadata": {},
     "output_type": "execute_result"
    }
   ],
   "source": [
    "aoc_2021_14('input.txt', 10)"
   ]
  },
  {
   "cell_type": "code",
   "execution_count": 5,
   "metadata": {},
   "outputs": [
    {
     "data": {
      "text/plain": [
       "2188189693529"
      ]
     },
     "execution_count": 5,
     "metadata": {},
     "output_type": "execute_result"
    }
   ],
   "source": [
    "aoc_2021_14('example.txt', 40)"
   ]
  },
  {
   "cell_type": "code",
   "execution_count": 6,
   "metadata": {},
   "outputs": [
    {
     "data": {
      "text/plain": [
       "3152788426516"
      ]
     },
     "execution_count": 6,
     "metadata": {},
     "output_type": "execute_result"
    }
   ],
   "source": [
    "aoc_2021_14('input.txt', 40)"
   ]
  }
 ],
 "metadata": {
  "kernelspec": {
   "display_name": "Python 3",
   "language": "python",
   "name": "python3"
  },
  "language_info": {
   "codemirror_mode": {
    "name": "ipython",
    "version": 3
   },
   "file_extension": ".py",
   "mimetype": "text/x-python",
   "name": "python",
   "nbconvert_exporter": "python",
   "pygments_lexer": "ipython3",
   "version": "3.7.3"
  }
 },
 "nbformat": 4,
 "nbformat_minor": 2
}
