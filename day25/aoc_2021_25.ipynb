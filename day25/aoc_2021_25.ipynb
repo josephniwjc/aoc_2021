{
 "cells": [
  {
   "cell_type": "code",
   "execution_count": 1,
   "metadata": {},
   "outputs": [],
   "source": [
    "import os\n",
    "import copy\n",
    "import numpy as np"
   ]
  },
  {
   "cell_type": "code",
   "execution_count": 2,
   "metadata": {},
   "outputs": [],
   "source": [
    "def aoc_2021_25_1(file_path):\n",
    "    \"\"\"--- Day 25: Sea Cucumber --- Part One\"\"\"\n",
    "    \n",
    "    with open(file_path) as f:\n",
    "        aoc_read = f.read().splitlines()\n",
    "        \n",
    "    empty_loc = set()\n",
    "    east_loc = set()\n",
    "    south_loc = set()\n",
    "    \n",
    "    # define empty, eastward, southward positions\n",
    "    for i_row, row in enumerate(aoc_read):\n",
    "        for i_col, col in enumerate(row):\n",
    "            temp_loc = (i_row, i_col)\n",
    "            if col == '.':\n",
    "                empty_loc.add(temp_loc)\n",
    "            elif col == '>':\n",
    "                east_loc.add(temp_loc)\n",
    "            elif col == 'v':\n",
    "                south_loc.add(temp_loc)\n",
    "            else:\n",
    "                raise ValueError\n",
    "    no_row, no_col = i_row + 1, i_col + 1\n",
    "    \n",
    "    # proceed until no movements\n",
    "    movement_flag = True\n",
    "    no_steps = 0\n",
    "    while movement_flag:\n",
    "        movement_flag = False\n",
    "        no_steps += 1\n",
    "\n",
    "        # eastward\n",
    "        new_empty_loc = copy.deepcopy(empty_loc)\n",
    "        new_east_loc = copy.deepcopy(east_loc)\n",
    "        for loc in east_loc:\n",
    "            new_loc = (loc[0], (loc[1] + 1) % no_col)\n",
    "            if new_loc in empty_loc:\n",
    "                movement_flag = True\n",
    "                new_east_loc.add(new_loc)\n",
    "                new_east_loc -= {loc}\n",
    "                new_empty_loc.add(loc)\n",
    "                new_empty_loc -= {new_loc}\n",
    "\n",
    "        # update\n",
    "        empty_loc = copy.deepcopy(new_empty_loc)\n",
    "        east_loc = copy.deepcopy(new_east_loc)\n",
    "\n",
    "        # southward\n",
    "        new_empty_loc = copy.deepcopy(empty_loc)\n",
    "        new_south_loc = copy.deepcopy(south_loc)\n",
    "        for loc in south_loc:\n",
    "            new_loc = ((loc[0] + 1) % no_row, loc[1])\n",
    "            if new_loc in empty_loc:\n",
    "                movement_flag = True\n",
    "                new_south_loc.add(new_loc)\n",
    "                new_south_loc -= {loc}\n",
    "                new_empty_loc.add(loc)\n",
    "                new_empty_loc -= {new_loc}\n",
    "\n",
    "        # update\n",
    "        empty_loc = copy.deepcopy(new_empty_loc)\n",
    "        south_loc = copy.deepcopy(new_south_loc)\n",
    "        \n",
    "    return no_steps"
   ]
  },
  {
   "cell_type": "code",
   "execution_count": 3,
   "metadata": {},
   "outputs": [
    {
     "data": {
      "text/plain": [
       "58"
      ]
     },
     "execution_count": 3,
     "metadata": {},
     "output_type": "execute_result"
    }
   ],
   "source": [
    "aoc_2021_25_1('example.txt')"
   ]
  },
  {
   "cell_type": "code",
   "execution_count": 4,
   "metadata": {},
   "outputs": [
    {
     "data": {
      "text/plain": [
       "489"
      ]
     },
     "execution_count": 4,
     "metadata": {},
     "output_type": "execute_result"
    }
   ],
   "source": [
    "aoc_2021_25_1('input.txt')"
   ]
  }
 ],
 "metadata": {
  "kernelspec": {
   "display_name": "Python 3 (ipykernel)",
   "language": "python",
   "name": "python3"
  },
  "language_info": {
   "codemirror_mode": {
    "name": "ipython",
    "version": 3
   },
   "file_extension": ".py",
   "mimetype": "text/x-python",
   "name": "python",
   "nbconvert_exporter": "python",
   "pygments_lexer": "ipython3",
   "version": "3.7.10"
  }
 },
 "nbformat": 4,
 "nbformat_minor": 2
}
