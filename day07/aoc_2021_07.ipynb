{
 "cells": [
  {
   "cell_type": "code",
   "execution_count": 1,
   "metadata": {},
   "outputs": [],
   "source": [
    "import os\n",
    "import numpy as np"
   ]
  },
  {
   "cell_type": "code",
   "execution_count": 2,
   "metadata": {},
   "outputs": [],
   "source": [
    "def aoc_2021_07_1(file_path):\n",
    "    \"\"\"--- Day 7: The Treachery of Whales --- Part One\"\"\"\n",
    "    \n",
    "    with open(file_path) as f:\n",
    "        aoc_read = f.read().split(',')\n",
    "    pos_list = np.array(aoc_read, dtype=int)\n",
    "    \n",
    "    # enumerate all positions\n",
    "    fuel_list = []\n",
    "    possible_list = list(range(min(pos_list), max(pos_list) + 1))\n",
    "\n",
    "    for pos in possible_list:\n",
    "        fuel_list.append(sum(np.abs(pos_list - pos)))\n",
    "\n",
    "    cheap_fuel = int(fuel_list[np.where(np.array(fuel_list) == min(fuel_list))[0][0]])\n",
    "    \n",
    "    return cheap_fuel"
   ]
  },
  {
   "cell_type": "code",
   "execution_count": 3,
   "metadata": {},
   "outputs": [
    {
     "data": {
      "text/plain": [
       "37"
      ]
     },
     "execution_count": 3,
     "metadata": {},
     "output_type": "execute_result"
    }
   ],
   "source": [
    "aoc_2021_07_1('example.txt')"
   ]
  },
  {
   "cell_type": "code",
   "execution_count": 4,
   "metadata": {},
   "outputs": [
    {
     "data": {
      "text/plain": [
       "335330"
      ]
     },
     "execution_count": 4,
     "metadata": {},
     "output_type": "execute_result"
    }
   ],
   "source": [
    "aoc_2021_07_1('input.txt')"
   ]
  },
  {
   "cell_type": "code",
   "execution_count": 5,
   "metadata": {},
   "outputs": [],
   "source": [
    "def aoc_2021_07_2(file_path):\n",
    "    \"\"\"--- Day 7: The Treachery of Whales --- Part Two\"\"\"\n",
    "    \n",
    "    with open(file_path) as f:\n",
    "        aoc_read = f.read().split(',')\n",
    "    pos_list = np.array(aoc_read, dtype=int)\n",
    "    \n",
    "    # enumerate all positions\n",
    "    fuel_list = []\n",
    "    possible_list = list(range(min(pos_list), max(pos_list) + 1))\n",
    "\n",
    "    for pos in possible_list:\n",
    "        temp_dist = np.abs(pos_list - pos)\n",
    "        fuel_list.append(sum(temp_dist * (temp_dist + 1) / 2))\n",
    "\n",
    "    expensive_fuel = int(fuel_list[np.where(np.array(fuel_list) == min(fuel_list))[0][0]])\n",
    "    \n",
    "    return expensive_fuel"
   ]
  },
  {
   "cell_type": "code",
   "execution_count": 6,
   "metadata": {},
   "outputs": [
    {
     "data": {
      "text/plain": [
       "168"
      ]
     },
     "execution_count": 6,
     "metadata": {},
     "output_type": "execute_result"
    }
   ],
   "source": [
    "aoc_2021_07_2('example.txt')"
   ]
  },
  {
   "cell_type": "code",
   "execution_count": 7,
   "metadata": {},
   "outputs": [
    {
     "data": {
      "text/plain": [
       "92439766"
      ]
     },
     "execution_count": 7,
     "metadata": {},
     "output_type": "execute_result"
    }
   ],
   "source": [
    "aoc_2021_07_2('input.txt')"
   ]
  }
 ],
 "metadata": {
  "kernelspec": {
   "display_name": "Python 3",
   "language": "python",
   "name": "python3"
  },
  "language_info": {
   "codemirror_mode": {
    "name": "ipython",
    "version": 3
   },
   "file_extension": ".py",
   "mimetype": "text/x-python",
   "name": "python",
   "nbconvert_exporter": "python",
   "pygments_lexer": "ipython3",
   "version": "3.7.3"
  }
 },
 "nbformat": 4,
 "nbformat_minor": 2
}
